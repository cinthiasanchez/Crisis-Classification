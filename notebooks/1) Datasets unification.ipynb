{
 "cells": [
  {
   "cell_type": "code",
   "execution_count": 1,
   "metadata": {
    "ExecuteTime": {
     "end_time": "2021-01-14T23:06:16.244496Z",
     "start_time": "2021-01-14T23:06:15.615871Z"
    }
   },
   "outputs": [],
   "source": [
    "import configuration\n",
    "\n",
    "from src import crisis_categories\n",
    "import pandas as pd\n",
    "import numpy as np\n",
    "\n",
    "import glob\n",
    "import os\n",
    "import re\n",
    "\n",
    "pd.set_option('display.max_columns', None)\n",
    "pd.set_option('display.max_colwidth', None)\n",
    "\n",
    "import warnings\n",
    "warnings.filterwarnings('ignore')"
   ]
  },
  {
   "cell_type": "markdown",
   "metadata": {
    "heading_collapsed": true
   },
   "source": [
    "# Dataset loading: Label merging and Crisis categorization"
   ]
  },
  {
   "cell_type": "code",
   "execution_count": 2,
   "metadata": {
    "ExecuteTime": {
     "end_time": "2021-01-14T23:06:21.062545Z",
     "start_time": "2021-01-14T23:06:20.996369Z"
    },
    "hidden": true
   },
   "outputs": [],
   "source": [
    "folder_from = '../data/datasets/'\n",
    "\n",
    "positive_label = 'Related'\n",
    "negative_label = 'Not_Related'\n",
    "\n",
    "columns_order = ['tweet_id', 'tweet_text', 'dataset','crisis',\n",
    "                 'country', 'year', 'original_label', 'mapped_label',\n",
    "                 'hazard_type', 'hazard_cat', 'hazard_subcat', \n",
    "                 'development', 'spread']"
   ]
  },
  {
   "cell_type": "markdown",
   "metadata": {
    "heading_collapsed": true,
    "hidden": true
   },
   "source": [
    "## SoSItalyT4"
   ]
  },
  {
   "cell_type": "code",
   "execution_count": 3,
   "metadata": {
    "ExecuteTime": {
     "end_time": "2021-01-14T23:07:42.171702Z",
     "start_time": "2021-01-14T23:07:42.058401Z"
    },
    "hidden": true,
    "scrolled": true
   },
   "outputs": [
    {
     "data": {
      "text/html": [
       "<div>\n",
       "<style scoped>\n",
       "    .dataframe tbody tr th:only-of-type {\n",
       "        vertical-align: middle;\n",
       "    }\n",
       "\n",
       "    .dataframe tbody tr th {\n",
       "        vertical-align: top;\n",
       "    }\n",
       "\n",
       "    .dataframe thead th {\n",
       "        text-align: right;\n",
       "    }\n",
       "</style>\n",
       "<table border=\"1\" class=\"dataframe\">\n",
       "  <thead>\n",
       "    <tr style=\"text-align: right;\">\n",
       "      <th></th>\n",
       "      <th>id</th>\n",
       "      <th>text</th>\n",
       "      <th>source</th>\n",
       "      <th>user_screen_name</th>\n",
       "      <th>user_id</th>\n",
       "      <th>latitude</th>\n",
       "      <th>longitude</th>\n",
       "      <th>created_at</th>\n",
       "      <th>disaster</th>\n",
       "      <th>class</th>\n",
       "    </tr>\n",
       "  </thead>\n",
       "  <tbody>\n",
       "    <tr>\n",
       "      <th>0</th>\n",
       "      <td>204044199048380416</td>\n",
       "      <td>tornare in camera e trovare l'armadio aperto, #creepy #terremoto</td>\n",
       "      <td>Twitter for iPhone</td>\n",
       "      <td>Miaotze</td>\n",
       "      <td>53883</td>\n",
       "      <td>NaN</td>\n",
       "      <td>NaN</td>\n",
       "      <td>2012-05-20T03:01:42.000Z</td>\n",
       "      <td>2</td>\n",
       "      <td>no damage</td>\n",
       "    </tr>\n",
       "    <tr>\n",
       "      <th>1</th>\n",
       "      <td>204044968166297601</td>\n",
       "      <td>altra scossa forte. #terremoto</td>\n",
       "      <td>Twitter for iPhone</td>\n",
       "      <td>Miaotze</td>\n",
       "      <td>53883</td>\n",
       "      <td>NaN</td>\n",
       "      <td>NaN</td>\n",
       "      <td>2012-05-20T03:04:46.000Z</td>\n",
       "      <td>2</td>\n",
       "      <td>no damage</td>\n",
       "    </tr>\n",
       "  </tbody>\n",
       "</table>\n",
       "</div>"
      ],
      "text/plain": [
       "                   id  \\\n",
       "0  204044199048380416   \n",
       "1  204044968166297601   \n",
       "\n",
       "                                                               text  \\\n",
       "0  tornare in camera e trovare l'armadio aperto, #creepy #terremoto   \n",
       "1                                    altra scossa forte. #terremoto   \n",
       "\n",
       "               source user_screen_name  user_id  latitude  longitude  \\\n",
       "0  Twitter for iPhone          Miaotze    53883       NaN        NaN   \n",
       "1  Twitter for iPhone          Miaotze    53883       NaN        NaN   \n",
       "\n",
       "                 created_at  disaster      class  \n",
       "0  2012-05-20T03:01:42.000Z         2  no damage  \n",
       "1  2012-05-20T03:04:46.000Z         2  no damage  "
      ]
     },
     "execution_count": 3,
     "metadata": {},
     "output_type": "execute_result"
    }
   ],
   "source": [
    "italy_data = pd.read_csv(folder_from + 'SoSItalyT4/SoSItalyT4.csv', encoding='utf_8')\n",
    "italy_data.head(2)"
   ]
  },
  {
   "cell_type": "code",
   "execution_count": 4,
   "metadata": {
    "ExecuteTime": {
     "end_time": "2021-01-14T23:07:42.735374Z",
     "start_time": "2021-01-14T23:07:42.668196Z"
    },
    "hidden": true
   },
   "outputs": [
    {
     "data": {
      "text/plain": [
       "(5642, 10)"
      ]
     },
     "execution_count": 4,
     "metadata": {},
     "output_type": "execute_result"
    }
   ],
   "source": [
    "italy_data.shape"
   ]
  },
  {
   "cell_type": "code",
   "execution_count": 5,
   "metadata": {
    "ExecuteTime": {
     "end_time": "2021-01-14T23:07:43.351140Z",
     "start_time": "2021-01-14T23:07:43.282959Z"
    },
    "hidden": true
   },
   "outputs": [
    {
     "data": {
      "text/plain": [
       "array(['no damage', 'not relevant', 'damage'], dtype=object)"
      ]
     },
     "execution_count": 5,
     "metadata": {},
     "output_type": "execute_result"
    }
   ],
   "source": [
    "italy_data['class'].unique()"
   ]
  },
  {
   "cell_type": "code",
   "execution_count": 6,
   "metadata": {
    "ExecuteTime": {
     "end_time": "2021-01-14T23:07:43.974019Z",
     "start_time": "2021-01-14T23:07:43.899822Z"
    },
    "hidden": true
   },
   "outputs": [],
   "source": [
    "italy_data = italy_data[['id', 'created_at', 'text', 'disaster', 'class']]\n",
    "\n",
    "italy_data = italy_data.rename(columns={\"id\": \"tweet_id\",\n",
    "                                        \"text\": \"tweet_text\", \n",
    "                                        \"disaster\": \"crisis\", \n",
    "                                        \"class\": \"original_label\"})\n",
    "\n",
    "italy_data['dataset'] = 'SoSItalyT4'\n",
    "italy_data['country'] = 'Italy'"
   ]
  },
  {
   "cell_type": "code",
   "execution_count": 7,
   "metadata": {
    "ExecuteTime": {
     "end_time": "2021-01-14T23:07:44.835597Z",
     "start_time": "2021-01-14T23:07:44.772429Z"
    },
    "hidden": true
   },
   "outputs": [
    {
     "data": {
      "text/plain": [
       "array([2, 1, 0, 3], dtype=int64)"
      ]
     },
     "execution_count": 7,
     "metadata": {},
     "output_type": "execute_result"
    }
   ],
   "source": [
    "italy_data.crisis.unique()"
   ]
  },
  {
   "cell_type": "code",
   "execution_count": 8,
   "metadata": {
    "ExecuteTime": {
     "end_time": "2021-01-14T23:07:48.632797Z",
     "start_time": "2021-01-14T23:07:48.546568Z"
    },
    "hidden": true
   },
   "outputs": [],
   "source": [
    "italy_data['year'] = italy_data.crisis.replace([0, 1, 2, 3], \n",
    "                                               [2013, 2009, 2012, 2014])\n",
    "\n",
    "italy_data['hazard_type'] = italy_data.crisis.replace([0, 1, 2, 3],\n",
    "                                                       ['flood', 'earthquake', 'earthquake', 'flood'])\n",
    "\n",
    "italy_data['crisis'] = italy_data.crisis.replace([0, 1, 2, 3], \n",
    "                                                 ['flood_Sardinia', \n",
    "                                                  'earthquake_Laquila',\n",
    "                                                  'earthquake_Italy', #'earthquake_Emilia', also in CrisisLexT26\n",
    "                                                  'flood_Genova'])\n",
    "\n",
    "italy_data['mapped_label'] = italy_data.original_label.replace(['damage', 'no damage', 'not relevant'], \n",
    "                                                               [positive_label, positive_label, negative_label])\n",
    "\n",
    "italy_data = crisis_categories.assign_categ(italy_data)\n",
    "italy_data = italy_data[columns_order]"
   ]
  },
  {
   "cell_type": "markdown",
   "metadata": {
    "heading_collapsed": true,
    "hidden": true
   },
   "source": [
    "## ChileEarthquakeT1"
   ]
  },
  {
   "cell_type": "code",
   "execution_count": 9,
   "metadata": {
    "ExecuteTime": {
     "end_time": "2021-01-14T21:34:36.434386Z",
     "start_time": "2021-01-14T21:34:36.332115Z"
    },
    "hidden": true
   },
   "outputs": [
    {
     "data": {
      "text/html": [
       "<div>\n",
       "<style scoped>\n",
       "    .dataframe tbody tr th:only-of-type {\n",
       "        vertical-align: middle;\n",
       "    }\n",
       "\n",
       "    .dataframe tbody tr th {\n",
       "        vertical-align: top;\n",
       "    }\n",
       "\n",
       "    .dataframe thead th {\n",
       "        text-align: right;\n",
       "    }\n",
       "</style>\n",
       "<table border=\"1\" class=\"dataframe\">\n",
       "  <thead>\n",
       "    <tr style=\"text-align: right;\">\n",
       "      <th></th>\n",
       "      <th>Unnamed: 0</th>\n",
       "      <th>n</th>\n",
       "      <th>ID_unit</th>\n",
       "      <th>day</th>\n",
       "      <th>date</th>\n",
       "      <th>time_zone</th>\n",
       "      <th>time</th>\n",
       "      <th>tweet_id</th>\n",
       "      <th>user_id</th>\n",
       "      <th>name</th>\n",
       "      <th>screen_name</th>\n",
       "      <th>friends_count</th>\n",
       "      <th>followers_count</th>\n",
       "      <th>texto</th>\n",
       "      <th>value</th>\n",
       "    </tr>\n",
       "  </thead>\n",
       "  <tbody>\n",
       "    <tr>\n",
       "      <th>0</th>\n",
       "      <td>1</td>\n",
       "      <td>1</td>\n",
       "      <td>7303</td>\n",
       "      <td>sat feb 27</td>\n",
       "      <td>2/27/2010</td>\n",
       "      <td>Madrid</td>\n",
       "      <td>11:40:55</td>\n",
       "      <td>9725643670</td>\n",
       "      <td>96025653</td>\n",
       "      <td>joju Aliaga</td>\n",
       "      <td>piziadas</td>\n",
       "      <td>32</td>\n",
       "      <td>37</td>\n",
       "      <td>fuentes sobre el terremoto en chile http://bit.ly/auedsj</td>\n",
       "      <td>True</td>\n",
       "    </tr>\n",
       "    <tr>\n",
       "      <th>1</th>\n",
       "      <td>2</td>\n",
       "      <td>2</td>\n",
       "      <td>10973</td>\n",
       "      <td>sat feb 27</td>\n",
       "      <td>2/27/2010</td>\n",
       "      <td>Madrid</td>\n",
       "      <td>11:46:03</td>\n",
       "      <td>9725759250</td>\n",
       "      <td>93857167</td>\n",
       "      <td>Ecodez</td>\n",
       "      <td>ecodez</td>\n",
       "      <td>0</td>\n",
       "      <td>279</td>\n",
       "      <td>sube el parte de víctimas: las autoridades chilenas informan de que al menos 64 personas fallecieron en las... http://bit.ly/awx73m</td>\n",
       "      <td>True</td>\n",
       "    </tr>\n",
       "  </tbody>\n",
       "</table>\n",
       "</div>"
      ],
      "text/plain": [
       "   Unnamed: 0  n  ID_unit         day       date time_zone      time  \\\n",
       "0           1  1     7303  sat feb 27  2/27/2010    Madrid  11:40:55   \n",
       "1           2  2    10973  sat feb 27  2/27/2010    Madrid  11:46:03   \n",
       "\n",
       "     tweet_id   user_id         name screen_name  friends_count  \\\n",
       "0  9725643670  96025653  joju Aliaga    piziadas             32   \n",
       "1  9725759250  93857167       Ecodez      ecodez              0   \n",
       "\n",
       "   followers_count  \\\n",
       "0               37   \n",
       "1              279   \n",
       "\n",
       "                                                                                                                                 texto  \\\n",
       "0                                                                             fuentes sobre el terremoto en chile http://bit.ly/auedsj   \n",
       "1  sube el parte de víctimas: las autoridades chilenas informan de que al menos 64 personas fallecieron en las... http://bit.ly/awx73m   \n",
       "\n",
       "   value  \n",
       "0   True  \n",
       "1   True  "
      ]
     },
     "execution_count": 9,
     "metadata": {},
     "output_type": "execute_result"
    }
   ],
   "source": [
    "chile_data = pd.read_csv(folder_from + 'Chile earthquake/ChileEarthquakeT1.csv', encoding='utf_8')\n",
    "chile_data.head(2)"
   ]
  },
  {
   "cell_type": "code",
   "execution_count": 10,
   "metadata": {
    "ExecuteTime": {
     "end_time": "2021-01-14T21:34:37.885003Z",
     "start_time": "2021-01-14T21:34:37.821838Z"
    },
    "hidden": true
   },
   "outputs": [
    {
     "data": {
      "text/plain": [
       "(2187, 15)"
      ]
     },
     "execution_count": 10,
     "metadata": {},
     "output_type": "execute_result"
    }
   ],
   "source": [
    "chile_data.shape"
   ]
  },
  {
   "cell_type": "code",
   "execution_count": 11,
   "metadata": {
    "ExecuteTime": {
     "end_time": "2021-01-14T21:34:40.164775Z",
     "start_time": "2021-01-14T21:34:40.099602Z"
    },
    "hidden": true
   },
   "outputs": [
    {
     "data": {
      "text/plain": [
       "array([ True, False])"
      ]
     },
     "execution_count": 11,
     "metadata": {},
     "output_type": "execute_result"
    }
   ],
   "source": [
    "chile_data['value'].unique()"
   ]
  },
  {
   "cell_type": "code",
   "execution_count": 12,
   "metadata": {
    "ExecuteTime": {
     "end_time": "2021-01-14T21:34:43.532839Z",
     "start_time": "2021-01-14T21:34:43.467668Z"
    },
    "hidden": true
   },
   "outputs": [],
   "source": [
    "chile_data = chile_data[['tweet_id', 'date', 'texto', 'value']]\n",
    "\n",
    "chile_data = chile_data.rename(columns={\"date\": \"created_at\",\n",
    "                                        \"texto\": \"tweet_text\", \n",
    "                                        \"value\": \"original_label\"})"
   ]
  },
  {
   "cell_type": "code",
   "execution_count": 13,
   "metadata": {
    "ExecuteTime": {
     "end_time": "2021-01-14T21:34:46.279300Z",
     "start_time": "2021-01-14T21:34:46.200089Z"
    },
    "hidden": true
   },
   "outputs": [],
   "source": [
    "chile_data['dataset'] = 'ChileEarthquakeT1'\n",
    "chile_data['country'] = 'Chile'\n",
    "chile_data['crisis'] = 'earthquake_Chile'\n",
    "chile_data['year'] = 2010\n",
    "chile_data['hazard_type'] = 'earthquake'\n",
    "\n",
    "chile_data['mapped_label'] = chile_data.original_label.replace([True, False], \n",
    "                                                               [positive_label, negative_label])"
   ]
  },
  {
   "cell_type": "code",
   "execution_count": 14,
   "metadata": {
    "ExecuteTime": {
     "end_time": "2021-01-14T21:35:02.171474Z",
     "start_time": "2021-01-14T21:35:02.104295Z"
    },
    "hidden": true
   },
   "outputs": [],
   "source": [
    "#Replacing tweet text of those recovery using the Twitter API because they seem to be truncated to the first comma\n",
    "chile_down = pd.read_csv(folder_from + 'Chile earthquake/Chile_uniques_downloaded.csv', encoding='utf_8')\n",
    "chile_data = chile_data.join(chile_down.set_index('id')[['full_text']], on='tweet_id')\n",
    "chile_data.loc[(chile_data.tweet_id.isin(set(chile_down.id))) , 'tweet_text'] = chile_data['full_text']\n",
    "chile_data = crisis_categories.assign_categ(chile_data)\n",
    "chile_data = chile_data[columns_order]"
   ]
  },
  {
   "cell_type": "markdown",
   "metadata": {
    "heading_collapsed": true,
    "hidden": true
   },
   "source": [
    "## CrisisLexT6"
   ]
  },
  {
   "cell_type": "code",
   "execution_count": 15,
   "metadata": {
    "ExecuteTime": {
     "end_time": "2021-01-14T21:36:10.850312Z",
     "start_time": "2021-01-14T21:36:10.556530Z"
    },
    "hidden": true
   },
   "outputs": [
    {
     "data": {
      "text/html": [
       "<div>\n",
       "<style scoped>\n",
       "    .dataframe tbody tr th:only-of-type {\n",
       "        vertical-align: middle;\n",
       "    }\n",
       "\n",
       "    .dataframe tbody tr th {\n",
       "        vertical-align: top;\n",
       "    }\n",
       "\n",
       "    .dataframe thead th {\n",
       "        text-align: right;\n",
       "    }\n",
       "</style>\n",
       "<table border=\"1\" class=\"dataframe\">\n",
       "  <thead>\n",
       "    <tr style=\"text-align: right;\">\n",
       "      <th></th>\n",
       "      <th>tweet id</th>\n",
       "      <th>tweet</th>\n",
       "      <th>label</th>\n",
       "      <th>crisis</th>\n",
       "    </tr>\n",
       "  </thead>\n",
       "  <tbody>\n",
       "    <tr>\n",
       "      <th>0</th>\n",
       "      <td>'262596552399396864'</td>\n",
       "      <td>I've got enough candles to supply a Mexican family</td>\n",
       "      <td>off-topic</td>\n",
       "      <td>2012_Sandy_Hurricane</td>\n",
       "    </tr>\n",
       "    <tr>\n",
       "      <th>1</th>\n",
       "      <td>'263044104500420609'</td>\n",
       "      <td>Sandy be soooo mad that she be shattering our doors and shiet #HurricaneSandy</td>\n",
       "      <td>on-topic</td>\n",
       "      <td>2012_Sandy_Hurricane</td>\n",
       "    </tr>\n",
       "  </tbody>\n",
       "</table>\n",
       "</div>"
      ],
      "text/plain": [
       "               tweet id  \\\n",
       "0  '262596552399396864'   \n",
       "1  '263044104500420609'   \n",
       "\n",
       "                                                                           tweet  \\\n",
       "0                             I've got enough candles to supply a Mexican family   \n",
       "1  Sandy be soooo mad that she be shattering our doors and shiet #HurricaneSandy   \n",
       "\n",
       "       label                crisis  \n",
       "0  off-topic  2012_Sandy_Hurricane  \n",
       "1   on-topic  2012_Sandy_Hurricane  "
      ]
     },
     "execution_count": 15,
     "metadata": {},
     "output_type": "execute_result"
    }
   ],
   "source": [
    "path =folder_from + \"CrisisLexT6/\"\n",
    "allFiles = glob.glob(path + \"/*.csv\")\n",
    "t6_data = pd.DataFrame()\n",
    "list_ = []\n",
    "for file_ in allFiles:\n",
    "    df = pd.read_csv(file_,index_col=None, header=0, encoding='utf_8')\n",
    "    df['crisis'] = file_.split('\\\\')[-1].split('.')[0].split('-')[0]\n",
    "    list_.append(df)\n",
    "t6_data = pd.concat(list_)\n",
    "\n",
    "t6_data.head(2)"
   ]
  },
  {
   "cell_type": "code",
   "execution_count": 16,
   "metadata": {
    "ExecuteTime": {
     "end_time": "2021-01-14T21:36:15.315194Z",
     "start_time": "2021-01-14T21:36:15.253033Z"
    },
    "hidden": true
   },
   "outputs": [
    {
     "data": {
      "text/plain": [
       "(60082, 4)"
      ]
     },
     "execution_count": 16,
     "metadata": {},
     "output_type": "execute_result"
    }
   ],
   "source": [
    "t6_data.shape"
   ]
  },
  {
   "cell_type": "code",
   "execution_count": 17,
   "metadata": {
    "ExecuteTime": {
     "end_time": "2021-01-14T21:36:13.143648Z",
     "start_time": "2021-01-14T21:36:13.074464Z"
    },
    "hidden": true
   },
   "outputs": [
    {
     "data": {
      "text/plain": [
       "array(['off-topic', 'on-topic'], dtype=object)"
      ]
     },
     "execution_count": 17,
     "metadata": {},
     "output_type": "execute_result"
    }
   ],
   "source": [
    "t6_data[' label'].unique()"
   ]
  },
  {
   "cell_type": "code",
   "execution_count": 18,
   "metadata": {
    "ExecuteTime": {
     "end_time": "2021-01-14T21:37:27.592683Z",
     "start_time": "2021-01-14T21:37:27.522497Z"
    },
    "hidden": true
   },
   "outputs": [],
   "source": [
    "t6_data = t6_data.rename(columns={\"tweet id\": \"tweet_id\", \n",
    "                                  \" tweet\": \"tweet_text\", \n",
    "                                  \" label\": \"original_label\"})"
   ]
  },
  {
   "cell_type": "code",
   "execution_count": 19,
   "metadata": {
    "ExecuteTime": {
     "end_time": "2021-01-14T21:37:31.060891Z",
     "start_time": "2021-01-14T21:37:30.979675Z"
    },
    "hidden": true
   },
   "outputs": [],
   "source": [
    "t6_data['dataset'] = 'CrisisLexT6'\n",
    "t6_data['mapped_label'] = t6_data.original_label.replace(['on-topic', 'off-topic'], \n",
    "                                                         [positive_label, negative_label])"
   ]
  },
  {
   "cell_type": "code",
   "execution_count": 20,
   "metadata": {
    "ExecuteTime": {
     "end_time": "2021-01-14T21:38:33.198929Z",
     "start_time": "2021-01-14T21:38:33.045495Z"
    },
    "hidden": true
   },
   "outputs": [],
   "source": [
    "t6_data['country'] = t6_data.crisis.replace(['2012_Sandy_Hurricane', '2013_Alberta_Floods',\n",
    "                                             '2013_Boston_Bombings', '2013_Oklahoma_Tornado',\n",
    "                                             '2013_Queensland_Floods', '2013_West_Texas_Explosion'],\n",
    "                                            ['several', 'Canada', 'EEUU', 'EEUU','Australia','EEUU'])\n",
    "\n",
    "t6_data['year'] = t6_data.crisis.replace(['2012_Sandy_Hurricane', '2013_Alberta_Floods',\n",
    "                                             '2013_Boston_Bombings', '2013_Oklahoma_Tornado',\n",
    "                                             '2013_Queensland_Floods', '2013_West_Texas_Explosion'],\n",
    "                                            [2012, 2013, 2013, 2013, 2013, 2013])\n",
    "\n",
    "t6_data['created_at'] = t6_data['year']\n",
    "\n",
    "t6_data['hazard_type'] = t6_data.crisis.replace(['2012_Sandy_Hurricane', '2013_Alberta_Floods',\n",
    "                                                 '2013_Boston_Bombings', '2013_Oklahoma_Tornado',\n",
    "                                                 '2013_Queensland_Floods', '2013_West_Texas_Explosion'],\n",
    "                                                ['hurricane', 'flood', 'bombings', 'tornado', 'flood', 'explosion'])\n",
    "\n",
    "t6_data['crisis'] = t6_data.crisis.replace(['2012_Sandy_Hurricane', '2013_Alberta_Floods',\n",
    "                                            '2013_Boston_Bombings', '2013_Oklahoma_Tornado',\n",
    "                                            '2013_Queensland_Floods', '2013_West_Texas_Explosion'],\n",
    "                                           ['hurricane_Sandy', 'flood_Alberta',\n",
    "                                            'bombing_Boston', 'tornado_Oklahoma',\n",
    "                                            'flood_Queensland', 'explosion_WestTexas'])\n",
    "\n",
    "t6_data = crisis_categories.assign_categ(t6_data)\n",
    "t6_data = t6_data[columns_order]"
   ]
  },
  {
   "cell_type": "markdown",
   "metadata": {
    "heading_collapsed": true,
    "hidden": true
   },
   "source": [
    "## CrisisLexT26"
   ]
  },
  {
   "cell_type": "code",
   "execution_count": 21,
   "metadata": {
    "ExecuteTime": {
     "end_time": "2021-01-14T21:48:17.364014Z",
     "start_time": "2021-01-14T21:48:16.997041Z"
    },
    "hidden": true
   },
   "outputs": [
    {
     "data": {
      "text/html": [
       "<div>\n",
       "<style scoped>\n",
       "    .dataframe tbody tr th:only-of-type {\n",
       "        vertical-align: middle;\n",
       "    }\n",
       "\n",
       "    .dataframe tbody tr th {\n",
       "        vertical-align: top;\n",
       "    }\n",
       "\n",
       "    .dataframe thead th {\n",
       "        text-align: right;\n",
       "    }\n",
       "</style>\n",
       "<table border=\"1\" class=\"dataframe\">\n",
       "  <thead>\n",
       "    <tr style=\"text-align: right;\">\n",
       "      <th></th>\n",
       "      <th>Tweet ID</th>\n",
       "      <th>Tweet Text</th>\n",
       "      <th>Information Source</th>\n",
       "      <th>Information Type</th>\n",
       "      <th>Informativeness</th>\n",
       "      <th>crisis</th>\n",
       "    </tr>\n",
       "  </thead>\n",
       "  <tbody>\n",
       "    <tr>\n",
       "      <th>0</th>\n",
       "      <td>211040709124440064</td>\n",
       "      <td>#Intern #US #TATTOO #Wisconsin #Ohio #NC #PA #Florida #Colorado #Iowa #Nevada #Virginia #NV #mlb Travel Destinations---&amp;gt;http://t.co/TIHBJKF2</td>\n",
       "      <td>Not labeled</td>\n",
       "      <td>Not labeled</td>\n",
       "      <td>Not related</td>\n",
       "      <td>2012_Colorado_wildfires</td>\n",
       "    </tr>\n",
       "    <tr>\n",
       "      <th>1</th>\n",
       "      <td>211111710294163457</td>\n",
       "      <td>RT @Jack4Ward: Get in on the fun every Thursday with the @csindependent #FunBrief http://ow.ly/br9Wi #CoSprings #Colorado</td>\n",
       "      <td>Not labeled</td>\n",
       "      <td>Not labeled</td>\n",
       "      <td>Not related</td>\n",
       "      <td>2012_Colorado_wildfires</td>\n",
       "    </tr>\n",
       "  </tbody>\n",
       "</table>\n",
       "</div>"
      ],
      "text/plain": [
       "             Tweet ID  \\\n",
       "0  211040709124440064   \n",
       "1  211111710294163457   \n",
       "\n",
       "                                                                                                                                        Tweet Text  \\\n",
       "0  #Intern #US #TATTOO #Wisconsin #Ohio #NC #PA #Florida #Colorado #Iowa #Nevada #Virginia #NV #mlb Travel Destinations---&gt;http://t.co/TIHBJKF2   \n",
       "1                        RT @Jack4Ward: Get in on the fun every Thursday with the @csindependent #FunBrief http://ow.ly/br9Wi #CoSprings #Colorado   \n",
       "\n",
       "   Information Source  Information Type  Informativeness  \\\n",
       "0         Not labeled       Not labeled      Not related   \n",
       "1         Not labeled       Not labeled      Not related   \n",
       "\n",
       "                    crisis  \n",
       "0  2012_Colorado_wildfires  \n",
       "1  2012_Colorado_wildfires  "
      ]
     },
     "execution_count": 21,
     "metadata": {},
     "output_type": "execute_result"
    }
   ],
   "source": [
    "path = folder_from + \"CrisisLexT26/\"\n",
    "allFiles = glob.glob(path + \"/*.csv\")\n",
    "t26_data = pd.DataFrame()\n",
    "list_ = []\n",
    "for file_ in allFiles:\n",
    "    df = pd.read_csv(file_,index_col=None, header=0, encoding='utf_8')\n",
    "    df['crisis'] = file_.split('\\\\')[-1].split('.')[0].split('-')[0]\n",
    "    list_.append(df)\n",
    "t26_data = pd.concat(list_)\n",
    "t26_data.head(2)"
   ]
  },
  {
   "cell_type": "code",
   "execution_count": 22,
   "metadata": {
    "ExecuteTime": {
     "end_time": "2021-01-14T21:48:20.531912Z",
     "start_time": "2021-01-14T21:48:20.465737Z"
    },
    "hidden": true
   },
   "outputs": [
    {
     "data": {
      "text/plain": [
       "(27933, 6)"
      ]
     },
     "execution_count": 22,
     "metadata": {},
     "output_type": "execute_result"
    }
   ],
   "source": [
    "t26_data.shape"
   ]
  },
  {
   "cell_type": "code",
   "execution_count": 23,
   "metadata": {
    "ExecuteTime": {
     "end_time": "2021-01-14T21:48:34.950628Z",
     "start_time": "2021-01-14T21:48:34.836322Z"
    },
    "hidden": true
   },
   "outputs": [],
   "source": [
    "t26_data = t26_data.rename(columns={\"Tweet ID\": \"tweet_id\", \n",
    "                                    \" Tweet Text\": \"tweet_text\", \n",
    "                                    \" Informativeness\": \"original_label\"})\n",
    "\n",
    "t26_data['dataset'] = 'CrisisLexT26'\n",
    "t26_data['mapped_label'] = t26_data.original_label.replace(['Related and informative', \n",
    "                                                            'Related - but not informative', \n",
    "                                                            'Not related', \n",
    "                                                            'Not applicable'], \n",
    "                                                           [positive_label, \n",
    "                                                            positive_label, \n",
    "                                                            negative_label, \n",
    "                                                            negative_label])\n",
    "\n",
    "t26_data['year'] = [int(x.split('_')[0]) for x in t26_data.crisis]\n",
    "t26_data['created_at'] = t26_data['year']"
   ]
  },
  {
   "cell_type": "code",
   "execution_count": 24,
   "metadata": {
    "ExecuteTime": {
     "end_time": "2021-01-14T21:48:55.367129Z",
     "start_time": "2021-01-14T21:48:55.265860Z"
    },
    "hidden": true
   },
   "outputs": [],
   "source": [
    "t26_data['crisis'] = t26_data.crisis.replace(['2012_Colorado_wildfires', '2012_CostaRica_earthquake',\n",
    "                                            '2012_Guatemala_earthquake', '2012_Italy_earthquakes',\n",
    "                                            '2012_Philipinnes_floods', '2012_Typhoon_Pablo',\n",
    "                                            '2012_Venezuela_refinery', '2013_Alberta_floods',\n",
    "                                            '2013_Australia_bushfire', '2013_Bohol_earthquake',\n",
    "                                            '2013_Boston_bombings', '2013_Brazil_nightclubFire',\n",
    "                                            '2013_Colorado_floods', '2013_Glasgow_helicopterCrash',\n",
    "                                            '2013_LacMegantic_trainCrash', '2013_LA_airportShootings',\n",
    "                                            '2013_Manila_floods', '2013_NY_trainCrash',\n",
    "                                            '2013_Queensland_floods', '2013_Russia_meteor',\n",
    "                                            '2013_Sardinia_floods', '2013_Savar_buildingCollapse',\n",
    "                                            '2013_Singapore_haze', '2013_Spain_trainCrash',\n",
    "                                            '2013_Typhoon_Yolanda', '2013_WestTexas_explosion'],\n",
    "                                             \n",
    "                                             ['wildfires_Colorado', 'earthquake_CostaRica',\n",
    "                                            'earthquake_Guatemala', 'earthquake_Italy',\n",
    "                                            'flood_Philippines', 'typhoon_Pablo',\n",
    "                                            'explosion_Venezuela', 'flood_Alberta',\n",
    "                                            'bushfire_Australia', 'earthquake_Bohol',\n",
    "                                            'bombing_Boston', 'nightclubFire_Brazil',\n",
    "                                            'flood_Colorado', 'helicopterCrash_Glasgow',\n",
    "                                            'trainCrash_LacMegantic', 'airportShootings_LA',\n",
    "                                            'flood_Manila', 'trainCrash_NY',\n",
    "                                            'flood_Queensland', 'meteor_Russia',\n",
    "                                            'flood_Sardinia', 'buildingCollapse_Savar',\n",
    "                                            'haze_Singapore', 'trainCrash_Spain',\n",
    "                                            'typhoon_Yolanda', 'explosion_WestTexas'] )"
   ]
  },
  {
   "cell_type": "code",
   "execution_count": 25,
   "metadata": {
    "ExecuteTime": {
     "end_time": "2021-01-14T21:49:22.198448Z",
     "start_time": "2021-01-14T21:49:22.098182Z"
    },
    "hidden": true
   },
   "outputs": [],
   "source": [
    "t26_data['country'] = t26_data.crisis.replace([ 'wildfires_Colorado', 'earthquake_CostaRica',\n",
    "                                                'earthquake_Guatemala', 'earthquake_Italy',\n",
    "                                                'flood_Philippines', 'typhoon_Pablo',\n",
    "                                                'explosion_Venezuela', 'flood_Alberta',\n",
    "                                                'bushfire_Australia', 'earthquake_Bohol',\n",
    "                                                'bombing_Boston', 'nightclubFire_Brazil',\n",
    "                                                'flood_Colorado', 'helicopterCrash_Glasgow',\n",
    "                                                'trainCrash_LacMegantic', 'airportShootings_LA',\n",
    "                                                'flood_Manila', 'trainCrash_NY',\n",
    "                                                'flood_Queensland', 'meteor_Russia',\n",
    "                                                'flood_Sardinia', 'buildingCollapse_Savar',\n",
    "                                                'haze_Singapore', 'trainCrash_Spain',\n",
    "                                                'typhoon_Yolanda', 'explosion_WestTexas'],                                              \n",
    "                                              \n",
    "                                              ['EEUU', 'Costa Rica',\n",
    "                                               'Guatemala', 'Italy', \n",
    "                                               'Philippines', 'several', \n",
    "                                               'Venezuela', 'Canada',\n",
    "                                               'Australia', 'Philippines', \n",
    "                                               'EEUU', 'Brazil', \n",
    "                                               'EEUU', 'UK',\n",
    "                                               'Canada', 'EEUU', \n",
    "                                               'Philippines', 'EEUU',\n",
    "                                               'Australia', 'Russia', \n",
    "                                               'Italy', 'Bangladesh', \n",
    "                                               'Singapore', 'Spain',\n",
    "                                               'several', 'EEUU'])"
   ]
  },
  {
   "cell_type": "code",
   "execution_count": 26,
   "metadata": {
    "ExecuteTime": {
     "end_time": "2021-01-14T21:49:36.558909Z",
     "start_time": "2021-01-14T21:49:36.458669Z"
    },
    "hidden": true
   },
   "outputs": [],
   "source": [
    "t26_data['hazard_type'] = t26_data.crisis.replace(['wildfires_Colorado', 'earthquake_CostaRica',\n",
    "                                                'earthquake_Guatemala', 'earthquake_Italy',\n",
    "                                                'flood_Philippines', 'typhoon_Pablo',\n",
    "                                                'explosion_Venezuela', 'flood_Alberta',\n",
    "                                                'bushfire_Australia', 'earthquake_Bohol',\n",
    "                                                'bombing_Boston', 'nightclubFire_Brazil',\n",
    "                                                'flood_Colorado', 'helicopterCrash_Glasgow',\n",
    "                                                'trainCrash_LacMegantic', 'airportShootings_LA',\n",
    "                                                'flood_Manila', 'trainCrash_NY',\n",
    "                                                'flood_Queensland', 'meteor_Russia',\n",
    "                                                'flood_Sardinia', 'buildingCollapse_Savar',\n",
    "                                                'haze_Singapore', 'trainCrash_Spain',\n",
    "                                                'typhoon_Yolanda', 'explosion_WestTexas'], \n",
    "                                                  \n",
    "                                                  ['wildfires', 'earthquake',\n",
    "                                                   'earthquake', 'earthquake', \n",
    "                                                   'flood', 'typhoon', \n",
    "                                                   'explosion', 'flood',\n",
    "                                                   'wildfires', 'earthquake',\n",
    "                                                   'bombings','fire', \n",
    "                                                   'flood', 'crash',\n",
    "                                                   'derailment', 'shooting', \n",
    "                                                   'flood', 'derailment',\n",
    "                                                   'flood', 'meteorite', \n",
    "                                                   'flood', 'collapse',\n",
    "                                                   'haze', 'derailment',\n",
    "                                                   'typhoon', 'explosion'])\n",
    "\n",
    "t26_data = crisis_categories.assign_categ(t26_data)\n",
    "t26_data = t26_data[columns_order]"
   ]
  },
  {
   "cell_type": "markdown",
   "metadata": {
    "heading_collapsed": true,
    "hidden": true
   },
   "source": [
    "## Ecuador-Earthquake"
   ]
  },
  {
   "cell_type": "code",
   "execution_count": 27,
   "metadata": {
    "ExecuteTime": {
     "end_time": "2021-01-14T22:08:51.658168Z",
     "start_time": "2021-01-14T22:08:51.465408Z"
    },
    "hidden": true
   },
   "outputs": [
    {
     "data": {
      "text/html": [
       "<div>\n",
       "<style scoped>\n",
       "    .dataframe tbody tr th:only-of-type {\n",
       "        vertical-align: middle;\n",
       "    }\n",
       "\n",
       "    .dataframe tbody tr th {\n",
       "        vertical-align: top;\n",
       "    }\n",
       "\n",
       "    .dataframe thead th {\n",
       "        text-align: right;\n",
       "    }\n",
       "</style>\n",
       "<table border=\"1\" class=\"dataframe\">\n",
       "  <thead>\n",
       "    <tr style=\"text-align: right;\">\n",
       "      <th></th>\n",
       "      <th>id</th>\n",
       "      <th>screen_name</th>\n",
       "      <th>text</th>\n",
       "      <th>url</th>\n",
       "      <th>timestamp</th>\n",
       "      <th>choose_one_category</th>\n",
       "      <th>crisis_related</th>\n",
       "      <th>choose_one_category_a1</th>\n",
       "      <th>choose_one_category_a2</th>\n",
       "      <th>choose_one_category_a3</th>\n",
       "      <th>crisis</th>\n",
       "    </tr>\n",
       "  </thead>\n",
       "  <tbody>\n",
       "    <tr>\n",
       "      <th>0</th>\n",
       "      <td>721627947832979456</td>\n",
       "      <td>ErikaGarza_Tv</td>\n",
       "      <td>The death toll is 77 in Ecuador after a 7.8 earthquake shook the South American country...… https://t.co/xh38pnjAKs</td>\n",
       "      <td>https://www.twitter.com/ErikaGarza_Tv/status/721627947832979456</td>\n",
       "      <td>2016-04-17 09:14:44</td>\n",
       "      <td>injured_or_dead_people</td>\n",
       "      <td>yes</td>\n",
       "      <td>injured_or_dead_people</td>\n",
       "      <td>injured_or_dead_people</td>\n",
       "      <td>injured_or_dead_people</td>\n",
       "      <td>2016_ecuador_eq_en.csv</td>\n",
       "    </tr>\n",
       "    <tr>\n",
       "      <th>1</th>\n",
       "      <td>721719744869478400</td>\n",
       "      <td>rr_rr_rr_11</td>\n",
       "      <td>Magnitude-7.8 earthquake hits Ecuador https://t.co/iiFoWwPVEU</td>\n",
       "      <td>https://www.twitter.com/rr_rr_rr_11/status/721719744869478400</td>\n",
       "      <td>2016-04-17 15:19:30</td>\n",
       "      <td>other_useful_information</td>\n",
       "      <td>yes</td>\n",
       "      <td>other_useful_information</td>\n",
       "      <td>other_useful_information</td>\n",
       "      <td>other_useful_information</td>\n",
       "      <td>2016_ecuador_eq_en.csv</td>\n",
       "    </tr>\n",
       "  </tbody>\n",
       "</table>\n",
       "</div>"
      ],
      "text/plain": [
       "                   id    screen_name  \\\n",
       "0  721627947832979456  ErikaGarza_Tv   \n",
       "1  721719744869478400    rr_rr_rr_11   \n",
       "\n",
       "                                                                                                                  text  \\\n",
       "0  The death toll is 77 in Ecuador after a 7.8 earthquake shook the South American country...… https://t.co/xh38pnjAKs   \n",
       "1                                                        Magnitude-7.8 earthquake hits Ecuador https://t.co/iiFoWwPVEU   \n",
       "\n",
       "                                                               url  \\\n",
       "0  https://www.twitter.com/ErikaGarza_Tv/status/721627947832979456   \n",
       "1    https://www.twitter.com/rr_rr_rr_11/status/721719744869478400   \n",
       "\n",
       "             timestamp       choose_one_category crisis_related  \\\n",
       "0  2016-04-17 09:14:44    injured_or_dead_people            yes   \n",
       "1  2016-04-17 15:19:30  other_useful_information            yes   \n",
       "\n",
       "     choose_one_category_a1    choose_one_category_a2  \\\n",
       "0    injured_or_dead_people    injured_or_dead_people   \n",
       "1  other_useful_information  other_useful_information   \n",
       "\n",
       "     choose_one_category_a3                  crisis  \n",
       "0    injured_or_dead_people  2016_ecuador_eq_en.csv  \n",
       "1  other_useful_information  2016_ecuador_eq_en.csv  "
      ]
     },
     "execution_count": 27,
     "metadata": {},
     "output_type": "execute_result"
    }
   ],
   "source": [
    "path =folder_from + \"Ecuador earthquake/\"\n",
    "allFiles = glob.glob(path + \"/*.csv\")\n",
    "ecuador_data = pd.DataFrame()\n",
    "list_ = []\n",
    "for file_ in allFiles:\n",
    "    df = pd.read_csv(file_, index_col=None, header=0, encoding='utf_8', dtype=object)\n",
    "    df['crisis'] = file_.split('\\\\')[-1].split('_labeled_data')[0]\n",
    "    list_.append(df)\n",
    "ecuador_data = pd.concat(list_)\n",
    "ecuador_data.head(2)"
   ]
  },
  {
   "cell_type": "code",
   "execution_count": 28,
   "metadata": {
    "ExecuteTime": {
     "end_time": "2021-01-14T22:08:52.179536Z",
     "start_time": "2021-01-14T22:08:52.122384Z"
    },
    "hidden": true
   },
   "outputs": [
    {
     "data": {
      "text/plain": [
       "(8360, 11)"
      ]
     },
     "execution_count": 28,
     "metadata": {},
     "output_type": "execute_result"
    }
   ],
   "source": [
    "ecuador_data.shape"
   ]
  },
  {
   "cell_type": "code",
   "execution_count": 29,
   "metadata": {
    "ExecuteTime": {
     "end_time": "2021-01-14T22:08:54.769296Z",
     "start_time": "2021-01-14T22:08:54.704119Z"
    },
    "hidden": true
   },
   "outputs": [
    {
     "data": {
      "text/plain": [
       "array(['yes', 'no'], dtype=object)"
      ]
     },
     "execution_count": 29,
     "metadata": {},
     "output_type": "execute_result"
    }
   ],
   "source": [
    "ecuador_data.crisis_related.unique()"
   ]
  },
  {
   "cell_type": "code",
   "execution_count": 30,
   "metadata": {
    "ExecuteTime": {
     "end_time": "2021-01-14T22:08:55.452060Z",
     "start_time": "2021-01-14T22:08:55.383879Z"
    },
    "hidden": true
   },
   "outputs": [],
   "source": [
    "ecuador_data = ecuador_data[['id', 'timestamp', 'text', 'crisis_related', 'crisis']]\n",
    "\n",
    "ecuador_data = ecuador_data.rename(columns={\"id\": \"tweet_id\",\n",
    "                                            \"timestamp\": \"created_at\", \n",
    "                                            \"text\": \"tweet_text\", \n",
    "                                            \"crisis\": \"lang_dataset\", \n",
    "                                            \"crisis_related\": \"original_label\"})"
   ]
  },
  {
   "cell_type": "code",
   "execution_count": 31,
   "metadata": {
    "ExecuteTime": {
     "end_time": "2021-01-14T22:08:56.356411Z",
     "start_time": "2021-01-14T22:08:56.282218Z"
    },
    "hidden": true
   },
   "outputs": [],
   "source": [
    "ecuador_data['dataset'] = 'ESPOL_Ecuador_earthquake'\n",
    "ecuador_data['country'] = 'Ecuador'\n",
    "ecuador_data['year'] = 2016\n",
    "ecuador_data['hazard_type'] = 'earthquake'\n",
    "ecuador_data['crisis'] = 'earthquake_Ecuador'\n",
    "ecuador_data['mapped_label'] = ecuador_data.original_label.replace(['yes', 'no'], \n",
    "                                                                   [positive_label, negative_label])"
   ]
  },
  {
   "cell_type": "code",
   "execution_count": 32,
   "metadata": {
    "hidden": true
   },
   "outputs": [],
   "source": [
    "#Removing 2 cases where tweet text is empty\n",
    "ecuador_data = ecuador_data[~ecuador_data.tweet_text.isna()]\n",
    "ecuador_data.shape\n",
    "ecuador_data = crisis_categories.assign_categ(ecuador_data)\n",
    "ecuador_data = ecuador_data[columns_order]"
   ]
  },
  {
   "cell_type": "markdown",
   "metadata": {
    "heading_collapsed": true,
    "hidden": true
   },
   "source": [
    "## CrisisNlpR1 Crowdflower"
   ]
  },
  {
   "cell_type": "code",
   "execution_count": 33,
   "metadata": {
    "ExecuteTime": {
     "end_time": "2021-01-14T22:09:26.520999Z",
     "start_time": "2021-01-14T22:09:26.264290Z"
    },
    "hidden": true
   },
   "outputs": [
    {
     "data": {
      "text/html": [
       "<div>\n",
       "<style scoped>\n",
       "    .dataframe tbody tr th:only-of-type {\n",
       "        vertical-align: middle;\n",
       "    }\n",
       "\n",
       "    .dataframe tbody tr th {\n",
       "        vertical-align: top;\n",
       "    }\n",
       "\n",
       "    .dataframe thead th {\n",
       "        text-align: right;\n",
       "    }\n",
       "</style>\n",
       "<table border=\"1\" class=\"dataframe\">\n",
       "  <thead>\n",
       "    <tr style=\"text-align: right;\">\n",
       "      <th></th>\n",
       "      <th>tweet_id</th>\n",
       "      <th>tweet_text</th>\n",
       "      <th>label</th>\n",
       "      <th>crisis</th>\n",
       "    </tr>\n",
       "  </thead>\n",
       "  <tbody>\n",
       "    <tr>\n",
       "      <th>0</th>\n",
       "      <td>'383600460340666369'</td>\n",
       "      <td>RT @Faiz_Baluch: #BalochistanEarthQuake Pakistan army is terrorizing the people by aerial firing in #Awaran https://t.co/R3R5ph8zSS http://…</td>\n",
       "      <td>other_useful_information</td>\n",
       "      <td>2013_Pakistan_eq_CF</td>\n",
       "    </tr>\n",
       "    <tr>\n",
       "      <th>1</th>\n",
       "      <td>'383790723222364161'</td>\n",
       "      <td>#Earthquake 2013-09-28 02:39:43 (M5.0) EAST OF THE SOUTH SANDWICH ISLANDS -59.5 -19.1 (70fa9) http://t.co/uBN98fFmNj notice</td>\n",
       "      <td>other_useful_information</td>\n",
       "      <td>2013_Pakistan_eq_CF</td>\n",
       "    </tr>\n",
       "  </tbody>\n",
       "</table>\n",
       "</div>"
      ],
      "text/plain": [
       "               tweet_id  \\\n",
       "0  '383600460340666369'   \n",
       "1  '383790723222364161'   \n",
       "\n",
       "                                                                                                                                     tweet_text  \\\n",
       "0  RT @Faiz_Baluch: #BalochistanEarthQuake Pakistan army is terrorizing the people by aerial firing in #Awaran https://t.co/R3R5ph8zSS http://…   \n",
       "1                   #Earthquake 2013-09-28 02:39:43 (M5.0) EAST OF THE SOUTH SANDWICH ISLANDS -59.5 -19.1 (70fa9) http://t.co/uBN98fFmNj notice   \n",
       "\n",
       "                      label               crisis  \n",
       "0  other_useful_information  2013_Pakistan_eq_CF  \n",
       "1  other_useful_information  2013_Pakistan_eq_CF  "
      ]
     },
     "execution_count": 33,
     "metadata": {},
     "output_type": "execute_result"
    }
   ],
   "source": [
    "path = folder_from + \"CrisisNLP_labeled_data_crowdflower_v2/\"\n",
    "allFiles = glob.glob(path + \"/*.tsv\")\n",
    "CrisisNlpR1_data = pd.DataFrame()\n",
    "list_ = []\n",
    "for file_ in allFiles:\n",
    "    df = pd.read_csv(file_, index_col=None, header=0, sep='\\t', encoding='utf_8', quotechar=' ')\n",
    "    df['crisis'] = file_.split('\\\\')[-1].split('_labeled_data')[0]\n",
    "    list_.append(df)\n",
    "CrisisNlpR1_data = pd.concat(list_)\n",
    "CrisisNlpR1_data.head(2)"
   ]
  },
  {
   "cell_type": "code",
   "execution_count": 34,
   "metadata": {
    "ExecuteTime": {
     "end_time": "2021-01-14T22:09:27.607184Z",
     "start_time": "2021-01-14T22:09:27.544019Z"
    },
    "hidden": true
   },
   "outputs": [
    {
     "data": {
      "text/plain": [
       "(22099, 4)"
      ]
     },
     "execution_count": 34,
     "metadata": {},
     "output_type": "execute_result"
    }
   ],
   "source": [
    "CrisisNlpR1_data.shape"
   ]
  },
  {
   "cell_type": "code",
   "execution_count": 35,
   "metadata": {
    "ExecuteTime": {
     "end_time": "2021-01-14T22:09:40.063034Z",
     "start_time": "2021-01-14T22:09:39.999869Z"
    },
    "hidden": true
   },
   "outputs": [],
   "source": [
    "CrisisNlpR1_data = CrisisNlpR1_data.rename(columns={\"label\": \"original_label\"})"
   ]
  },
  {
   "cell_type": "code",
   "execution_count": 36,
   "metadata": {
    "ExecuteTime": {
     "end_time": "2021-01-14T22:10:40.711374Z",
     "start_time": "2021-01-14T22:10:40.617095Z"
    },
    "hidden": true
   },
   "outputs": [],
   "source": [
    "CrisisNlpR1_data['dataset'] = 'CrisisNlpR1_CF'\n",
    "\n",
    "\n",
    "CrisisNlpR1_data['country'] = CrisisNlpR1_data.crisis.replace(['2013_Pakistan_eq_CF', '2014_California_Earthquake_CF',\n",
    "                                                               '2014_Chile_Earthquake_cl', '2014_Chile_Earthquake_en_CF',\n",
    "                                                               '2014_ebola_CF', '2014_Hurricane_Odile_Mexico_en_CF',\n",
    "                                                               '2014_India_floods_CF', '2014_MERS_en_CF',\n",
    "                                                               '2014_Pakistan_floods_CF',\n",
    "                                                               '2014_Philippines_Typhoon_Hagupit_en_CF', '2015_Cyclone_Pam_en_CF',\n",
    "                                                               '2015_Nepal_Earthquake_en_CF'],\n",
    "                                                              \n",
    "                                                              ['Pakistan', 'EEUU',\n",
    "                                                               'Chile', 'Chile',\n",
    "                                                               'several', 'Mexico',\n",
    "                                                               'India', 'several',\n",
    "                                                               'Pakistan',\n",
    "                                                               'Philippines', 'Vanuatu',\n",
    "                                                               'Nepal']  \n",
    "                                                             )\n",
    "CrisisNlpR1_data['year'] = CrisisNlpR1_data.crisis.replace(['2013_Pakistan_eq_CF', '2014_California_Earthquake_CF',\n",
    "                                                               '2014_Chile_Earthquake_cl', '2014_Chile_Earthquake_en_CF',\n",
    "                                                               '2014_ebola_CF', '2014_Hurricane_Odile_Mexico_en_CF',\n",
    "                                                               '2014_India_floods_CF', '2014_MERS_en_CF',\n",
    "                                                               '2014_Pakistan_floods_CF',\n",
    "                                                               '2014_Philippines_Typhoon_Hagupit_en_CF', '2015_Cyclone_Pam_en_CF',\n",
    "                                                               '2015_Nepal_Earthquake_en_CF'],\n",
    "                                                              \n",
    "                                                              ['2013', '2014',\n",
    "                                                               '2014', '2014',\n",
    "                                                               '2014', '2014',\n",
    "                                                               '2014', '2014',\n",
    "                                                               '2014',\n",
    "                                                               '2014', '2015',\n",
    "                                                               '2015'] \n",
    "                                                             )\n",
    "CrisisNlpR1_data['created_at'] = CrisisNlpR1_data['year']"
   ]
  },
  {
   "cell_type": "code",
   "execution_count": 37,
   "metadata": {
    "ExecuteTime": {
     "end_time": "2021-01-14T22:10:57.772155Z",
     "start_time": "2021-01-14T22:10:57.695955Z"
    },
    "hidden": true
   },
   "outputs": [],
   "source": [
    "CrisisNlpR1_data['hazard_type'] = CrisisNlpR1_data.crisis.replace(['2013_Pakistan_eq_CF', '2014_California_Earthquake_CF',\n",
    "                                                                   '2014_Chile_Earthquake_cl', '2014_Chile_Earthquake_en_CF',\n",
    "                                                                   '2014_ebola_CF', '2014_Hurricane_Odile_Mexico_en_CF',\n",
    "                                                                   '2014_India_floods_CF', '2014_MERS_en_CF',\n",
    "                                                                   '2014_Pakistan_floods_CF',\n",
    "                                                                   '2014_Philippines_Typhoon_Hagupit_en_CF', '2015_Cyclone_Pam_en_CF',\n",
    "                                                                   '2015_Nepal_Earthquake_en_CF'],\n",
    "                                                                  \n",
    "                                                                  ['earthquake', 'earthquake',\n",
    "                                                                   'earthquake', 'earthquake',\n",
    "                                                                   'viral_disease', 'hurricane',\n",
    "                                                                   'flood', 'viral_disease',\n",
    "                                                                   'flood',\n",
    "                                                                   'typhoon', 'cyclone',\n",
    "                                                                   'earthquake'])"
   ]
  },
  {
   "cell_type": "code",
   "execution_count": 38,
   "metadata": {
    "ExecuteTime": {
     "end_time": "2021-01-14T22:11:03.077274Z",
     "start_time": "2021-01-14T22:11:03.000071Z"
    },
    "hidden": true
   },
   "outputs": [],
   "source": [
    "CrisisNlpR1_data['crisis'] = CrisisNlpR1_data.crisis.replace(['2013_Pakistan_eq_CF', '2014_California_Earthquake_CF',\n",
    "                                                                   '2014_Chile_Earthquake_cl', '2014_Chile_Earthquake_en_CF',\n",
    "                                                                   '2014_ebola_CF', '2014_Hurricane_Odile_Mexico_en_CF',\n",
    "                                                                   '2014_India_floods_CF', '2014_MERS_en_CF',\n",
    "                                                                   '2014_Pakistan_floods_CF',\n",
    "                                                                   '2014_Philippines_Typhoon_Hagupit_en_CF', '2015_Cyclone_Pam_en_CF',\n",
    "                                                                   '2015_Nepal_Earthquake_en_CF'],\n",
    "                                                              \n",
    "                                                              ['earthquake_Pakistan', 'earthquake_California',\n",
    "                                                                   'earthquake_Chile', 'earthquake_Chile',\n",
    "                                                                   'ebola_virus', 'hurricane_Mexico_Odile',\n",
    "                                                                   'flood_India', 'Middle_East_Respiratory_Syndrome',\n",
    "                                                                   'flood_Pakistan',\n",
    "                                                                   'typhoon_Philippines_Hagupit', 'cyclone_Vanuatu_Pam',\n",
    "                                                                   'earthquake_Nepal'])"
   ]
  },
  {
   "cell_type": "code",
   "execution_count": 39,
   "metadata": {
    "ExecuteTime": {
     "end_time": "2021-01-14T22:11:24.321999Z",
     "start_time": "2021-01-14T22:11:24.248805Z"
    },
    "hidden": true
   },
   "outputs": [],
   "source": [
    "nl1_cf_notrelevant = ['not_related_or_irrelevant']\n",
    "\n",
    "CrisisNlpR1_data['mapped_label'] = np.where((CrisisNlpR1_data.original_label.isin(nl1_cf_notrelevant)),\n",
    "                                            negative_label, positive_label)\n",
    "\n",
    "CrisisNlpR1_data = crisis_categories.assign_categ(CrisisNlpR1_data)\n",
    "CrisisNlpR1_data = CrisisNlpR1_data[columns_order]"
   ]
  },
  {
   "cell_type": "markdown",
   "metadata": {
    "heading_collapsed": true,
    "hidden": true
   },
   "source": [
    "## CrisisNlpR1 Volunteer"
   ]
  },
  {
   "cell_type": "code",
   "execution_count": 40,
   "metadata": {
    "ExecuteTime": {
     "end_time": "2021-01-14T22:31:07.368157Z",
     "start_time": "2021-01-14T22:31:06.937012Z"
    },
    "hidden": true
   },
   "outputs": [
    {
     "data": {
      "text/html": [
       "<div>\n",
       "<style scoped>\n",
       "    .dataframe tbody tr th:only-of-type {\n",
       "        vertical-align: middle;\n",
       "    }\n",
       "\n",
       "    .dataframe tbody tr th {\n",
       "        vertical-align: top;\n",
       "    }\n",
       "\n",
       "    .dataframe thead th {\n",
       "        text-align: right;\n",
       "    }\n",
       "</style>\n",
       "<table border=\"1\" class=\"dataframe\">\n",
       "  <thead>\n",
       "    <tr style=\"text-align: right;\">\n",
       "      <th></th>\n",
       "      <th>tweet_id</th>\n",
       "      <th>tweet_time</th>\n",
       "      <th>tweet_author</th>\n",
       "      <th>tweet_author_id</th>\n",
       "      <th>tweet_language</th>\n",
       "      <th>tweet_lon</th>\n",
       "      <th>tweet_lat</th>\n",
       "      <th>tweet_text</th>\n",
       "      <th>tweet_url</th>\n",
       "      <th>label</th>\n",
       "      <th>crisis</th>\n",
       "    </tr>\n",
       "  </thead>\n",
       "  <tbody>\n",
       "    <tr>\n",
       "      <th>0</th>\n",
       "      <td>'503866345822244864'</td>\n",
       "      <td>Mon Aug 25 11:27:52 +0000 2014</td>\n",
       "      <td>NewsYouN2Know</td>\n",
       "      <td>2420642647</td>\n",
       "      <td>en</td>\n",
       "      <td>NaN</td>\n",
       "      <td>NaN</td>\n",
       "      <td>å_ USA 592 Earthquake Earthquake rattles, doesn t wreck Napa wineries news24lhot Georgia USA Augusta-Richmond... http://t.co/S8EMU5FrXH</td>\n",
       "      <td>https://twitter.com/NewsYouN2Know/status/503866345822244864</td>\n",
       "      <td>Infrastructure and utilities</td>\n",
       "      <td>2014_California_Earthquake</td>\n",
       "    </tr>\n",
       "    <tr>\n",
       "      <th>1</th>\n",
       "      <td>'503866373961809920'</td>\n",
       "      <td>Mon Aug 25 11:27:59 +0000 2014</td>\n",
       "      <td>debbyxme</td>\n",
       "      <td>2300611952</td>\n",
       "      <td>en</td>\n",
       "      <td>NaN</td>\n",
       "      <td>NaN</td>\n",
       "      <td>‰Û¢ ‰Û¢ Earthquake #Earthquake California Earthquake San Francisco 428 ‰Û¢ Northern California Stru‰Û_... http://t.co/WG0ufzf2W1 #Earthquake</td>\n",
       "      <td>https://twitter.com/debbyxme/status/503866373961809920</td>\n",
       "      <td>Other relevant information</td>\n",
       "      <td>2014_California_Earthquake</td>\n",
       "    </tr>\n",
       "  </tbody>\n",
       "</table>\n",
       "</div>"
      ],
      "text/plain": [
       "               tweet_id                      tweet_time   tweet_author  \\\n",
       "0  '503866345822244864'  Mon Aug 25 11:27:52 +0000 2014  NewsYouN2Know   \n",
       "1  '503866373961809920'  Mon Aug 25 11:27:59 +0000 2014       debbyxme   \n",
       "\n",
       "    tweet_author_id  tweet_language   tweet_lon   tweet_lat  \\\n",
       "0        2420642647              en         NaN         NaN   \n",
       "1        2300611952              en         NaN         NaN   \n",
       "\n",
       "                                                                                                                                     tweet_text  \\\n",
       "0       å_ USA 592 Earthquake Earthquake rattles, doesn t wreck Napa wineries news24lhot Georgia USA Augusta-Richmond... http://t.co/S8EMU5FrXH   \n",
       "1  ‰Û¢ ‰Û¢ Earthquake #Earthquake California Earthquake San Francisco 428 ‰Û¢ Northern California Stru‰Û_... http://t.co/WG0ufzf2W1 #Earthquake   \n",
       "\n",
       "                                                     tweet_url  \\\n",
       "0  https://twitter.com/NewsYouN2Know/status/503866345822244864   \n",
       "1       https://twitter.com/debbyxme/status/503866373961809920   \n",
       "\n",
       "                          label                      crisis  \n",
       "0  Infrastructure and utilities  2014_California_Earthquake  \n",
       "1    Other relevant information  2014_California_Earthquake  "
      ]
     },
     "execution_count": 40,
     "metadata": {},
     "output_type": "execute_result"
    }
   ],
   "source": [
    "path = folder_from + \"CrisisNLP_volunteers_labeled_data/\"\n",
    "allFiles = glob.glob(path + \"/*.csv\")\n",
    "CrisisNlpR1_volunteer = pd.DataFrame()\n",
    "list_ = []\n",
    "for file_ in allFiles:\n",
    "    df = pd.read_csv(file_, index_col=None, header=0, encoding='utf_8')\n",
    "    df['crisis'] = file_.split('\\\\')[-1].split('.csv')[0]\n",
    "    list_.append(df)\n",
    "CrisisNlpR1_volunteer = pd.concat(list_)\n",
    "CrisisNlpR1_volunteer.head(2)"
   ]
  },
  {
   "cell_type": "code",
   "execution_count": 41,
   "metadata": {
    "ExecuteTime": {
     "end_time": "2021-01-14T22:31:09.192006Z",
     "start_time": "2021-01-14T22:31:09.099761Z"
    },
    "hidden": true
   },
   "outputs": [
    {
     "data": {
      "text/plain": [
       "(27497, 11)"
      ]
     },
     "execution_count": 41,
     "metadata": {},
     "output_type": "execute_result"
    }
   ],
   "source": [
    "CrisisNlpR1_volunteer.shape"
   ]
  },
  {
   "cell_type": "code",
   "execution_count": 42,
   "metadata": {
    "ExecuteTime": {
     "end_time": "2021-01-14T22:31:10.737997Z",
     "start_time": "2021-01-14T22:31:10.632715Z"
    },
    "hidden": true
   },
   "outputs": [],
   "source": [
    "CrisisNlpR1_volunteer = CrisisNlpR1_volunteer.rename(columns={\"label\": \"original_label\",\n",
    "                                                              ' tweet_text':\"tweet_text\"})"
   ]
  },
  {
   "cell_type": "code",
   "execution_count": 43,
   "metadata": {
    "ExecuteTime": {
     "end_time": "2021-01-14T22:31:14.922363Z",
     "start_time": "2021-01-14T22:31:14.861201Z"
    },
    "hidden": true
   },
   "outputs": [],
   "source": [
    "# Excluding one tweet of Animal Management\n",
    "CrisisNlpR1_volunteer = CrisisNlpR1_volunteer[CrisisNlpR1_volunteer['original_label'] != 'Animal management']\n",
    "\n",
    "nl1_vol_notrelevant = ['Not related or irrelevant', 'Not related to crisis', \n",
    "                       'Not informative', 'No', 'Not Informative', 'Not relevant', \n",
    "                       'Not Relevant',  'Not physical landslide']"
   ]
  },
  {
   "cell_type": "code",
   "execution_count": 44,
   "metadata": {
    "ExecuteTime": {
     "end_time": "2021-01-14T22:31:16.075502Z",
     "start_time": "2021-01-14T22:31:15.974160Z"
    },
    "hidden": true
   },
   "outputs": [],
   "source": [
    "CrisisNlpR1_volunteer['mapped_label'] = np.where((CrisisNlpR1_volunteer.original_label.isin(nl1_vol_notrelevant)),\n",
    "                                                 negative_label, positive_label)\n",
    "\n",
    "CrisisNlpR1_volunteer['dataset'] = 'CrisisNlpR1_Vol'\n",
    "\n",
    "CrisisNlpR1_volunteer['country'] = CrisisNlpR1_volunteer.crisis.replace(\n",
    "    ['2014_California_Earthquake', '2014_chile_earthquake_cl',\n",
    "     '2014_Chile_Earthquake_en', '2014_Hurricane_Odile_Mexico_en',\n",
    "     '2014_Iceland_Volcano_en', '2014_Malaysia_Airline_MH370_en',\n",
    "     '2014_Middle_East_Respiratory_Syndrome_en',\n",
    "     '2014_Typhoon_Hagupit_en', '2015_Cyclone_Pam_en',\n",
    "     '2015_Nepal_Earthquake_en', 'Landslides_Worldwide_en',\n",
    "     'Landslides_Worldwide_esp', 'LandSlides_Worldwide_fr'],\n",
    "    \n",
    "    ['EEUU', 'Chile',\n",
    "     'Chile', 'Mexico',\n",
    "     'Iceland', 'Malaysia',\n",
    "     'several',\n",
    "     'Philippines', 'Vanuatu',\n",
    "     'Nepal', 'several',\n",
    "     'several', 'several'])\n",
    "\n",
    "CrisisNlpR1_volunteer['year'] = CrisisNlpR1_volunteer.crisis.replace(\n",
    "    ['2014_California_Earthquake', '2014_chile_earthquake_cl',\n",
    "     '2014_Chile_Earthquake_en', '2014_Hurricane_Odile_Mexico_en',\n",
    "     '2014_Iceland_Volcano_en', '2014_Malaysia_Airline_MH370_en',\n",
    "     '2014_Middle_East_Respiratory_Syndrome_en',\n",
    "     '2014_Typhoon_Hagupit_en', '2015_Cyclone_Pam_en',\n",
    "     '2015_Nepal_Earthquake_en', 'Landslides_Worldwide_en',\n",
    "     'Landslides_Worldwide_esp', 'LandSlides_Worldwide_fr'],\n",
    "    \n",
    "    ['2014', '2014',\n",
    "     '2014', '2014',\n",
    "     '2014', '2014',\n",
    "     '2014',\n",
    "     '2014', '2015',\n",
    "     '2015', '2014',\n",
    "     '2015', '2015'])\n",
    "\n",
    "CrisisNlpR1_volunteer['created_at'] = CrisisNlpR1_volunteer[' tweet_time']"
   ]
  },
  {
   "cell_type": "code",
   "execution_count": 45,
   "metadata": {
    "ExecuteTime": {
     "end_time": "2021-01-14T22:31:18.389580Z",
     "start_time": "2021-01-14T22:31:18.311371Z"
    },
    "hidden": true
   },
   "outputs": [],
   "source": [
    "CrisisNlpR1_volunteer['hazard_type'] = CrisisNlpR1_volunteer.crisis.replace(\n",
    "    ['2014_California_Earthquake', '2014_chile_earthquake_cl',\n",
    "       '2014_Chile_Earthquake_en', '2014_Hurricane_Odile_Mexico_en',\n",
    "       '2014_Iceland_Volcano_en', '2014_Malaysia_Airline_MH370_en',\n",
    "       '2014_Middle_East_Respiratory_Syndrome_en',\n",
    "       '2014_Typhoon_Hagupit_en', '2015_Cyclone_Pam_en',\n",
    "       '2015_Nepal_Earthquake_en', 'Landslides_Worldwide_en',\n",
    "       'Landslides_Worldwide_esp', 'LandSlides_Worldwide_fr'],\n",
    "    \n",
    "    ['earthquake', 'earthquake',\n",
    "       'earthquake', 'hurricane',\n",
    "       'volcano', 'crash',\n",
    "       'viral_disease',\n",
    "       'typhoon', 'cyclone',\n",
    "       'earthquake', 'landslide',\n",
    "       'landslide', 'landslide'])"
   ]
  },
  {
   "cell_type": "code",
   "execution_count": 46,
   "metadata": {
    "ExecuteTime": {
     "end_time": "2021-01-14T22:31:19.494518Z",
     "start_time": "2021-01-14T22:31:19.416309Z"
    },
    "hidden": true
   },
   "outputs": [],
   "source": [
    "CrisisNlpR1_volunteer['crisis'] = CrisisNlpR1_volunteer.crisis.replace(\n",
    "    ['2014_California_Earthquake', '2014_chile_earthquake_cl',\n",
    "       '2014_Chile_Earthquake_en', '2014_Hurricane_Odile_Mexico_en',\n",
    "       '2014_Iceland_Volcano_en', '2014_Malaysia_Airline_MH370_en',\n",
    "       '2014_Middle_East_Respiratory_Syndrome_en',\n",
    "       '2014_Typhoon_Hagupit_en', '2015_Cyclone_Pam_en',\n",
    "       '2015_Nepal_Earthquake_en', 'Landslides_Worldwide_en',\n",
    "       'Landslides_Worldwide_esp', 'LandSlides_Worldwide_fr'],\n",
    "    \n",
    "    ['earthquake_California', 'earthquake_Chile',\n",
    "       'earthquake_Chile', 'hurricane_Mexico_Odile',\n",
    "       'Volcano_Iceland', 'Airline_MH370_Malaysia',\n",
    "       'Middle_East_Respiratory_Syndrome',\n",
    "       'typhoon_Philippines_Hagupit', 'cyclone_Vanuatu_Pam',\n",
    "       'earthquake_Nepal', 'Landslides_Worldwide',\n",
    "       'Landslides_Worldwide', 'Landslides_Worldwide'])\n",
    "\n",
    "CrisisNlpR1_volunteer = crisis_categories.assign_categ(CrisisNlpR1_volunteer)\n",
    "CrisisNlpR1_volunteer = CrisisNlpR1_volunteer[columns_order]"
   ]
  },
  {
   "cell_type": "markdown",
   "metadata": {
    "heading_collapsed": true,
    "hidden": true
   },
   "source": [
    "## CrisisMMD"
   ]
  },
  {
   "cell_type": "code",
   "execution_count": 47,
   "metadata": {
    "ExecuteTime": {
     "end_time": "2021-01-14T22:35:50.542248Z",
     "start_time": "2021-01-14T22:35:50.333695Z"
    },
    "hidden": true
   },
   "outputs": [
    {
     "data": {
      "text/html": [
       "<div>\n",
       "<style scoped>\n",
       "    .dataframe tbody tr th:only-of-type {\n",
       "        vertical-align: middle;\n",
       "    }\n",
       "\n",
       "    .dataframe tbody tr th {\n",
       "        vertical-align: top;\n",
       "    }\n",
       "\n",
       "    .dataframe thead th {\n",
       "        text-align: right;\n",
       "    }\n",
       "</style>\n",
       "<table border=\"1\" class=\"dataframe\">\n",
       "  <thead>\n",
       "    <tr style=\"text-align: right;\">\n",
       "      <th></th>\n",
       "      <th>event_name</th>\n",
       "      <th>tweet_id</th>\n",
       "      <th>image_id</th>\n",
       "      <th>tweet_text</th>\n",
       "      <th>image</th>\n",
       "      <th>label</th>\n",
       "      <th>label_text</th>\n",
       "      <th>label_image</th>\n",
       "      <th>label_text_image</th>\n",
       "    </tr>\n",
       "  </thead>\n",
       "  <tbody>\n",
       "    <tr>\n",
       "      <th>0</th>\n",
       "      <td>hurricane_harvey</td>\n",
       "      <td>905064623199719425</td>\n",
       "      <td>905064623199719425_0</td>\n",
       "      <td>We've lost track of how many houses/families @NEHBC teams have helped. So proud of our church. #Harvey https://t.co/wBkKvUt9vw</td>\n",
       "      <td>data_image/hurricane_harvey/5_9_2017/905064623199719425_0.jpg</td>\n",
       "      <td>informative</td>\n",
       "      <td>informative</td>\n",
       "      <td>informative</td>\n",
       "      <td>Positive</td>\n",
       "    </tr>\n",
       "    <tr>\n",
       "      <th>1</th>\n",
       "      <td>hurricane_maria</td>\n",
       "      <td>922857566220283904</td>\n",
       "      <td>922857566220283904_0</td>\n",
       "      <td>The gym above subway got destroyed. The cement wall got blown out. #HurricaneMaria https://t.co/GS0tKhvR30</td>\n",
       "      <td>data_image/hurricane_maria/24_10_2017/922857566220283904_0.jpg</td>\n",
       "      <td>informative</td>\n",
       "      <td>informative</td>\n",
       "      <td>informative</td>\n",
       "      <td>Positive</td>\n",
       "    </tr>\n",
       "  </tbody>\n",
       "</table>\n",
       "</div>"
      ],
      "text/plain": [
       "         event_name            tweet_id              image_id  \\\n",
       "0  hurricane_harvey  905064623199719425  905064623199719425_0   \n",
       "1   hurricane_maria  922857566220283904  922857566220283904_0   \n",
       "\n",
       "                                                                                                                       tweet_text  \\\n",
       "0  We've lost track of how many houses/families @NEHBC teams have helped. So proud of our church. #Harvey https://t.co/wBkKvUt9vw   \n",
       "1                      The gym above subway got destroyed. The cement wall got blown out. #HurricaneMaria https://t.co/GS0tKhvR30   \n",
       "\n",
       "                                                            image  \\\n",
       "0   data_image/hurricane_harvey/5_9_2017/905064623199719425_0.jpg   \n",
       "1  data_image/hurricane_maria/24_10_2017/922857566220283904_0.jpg   \n",
       "\n",
       "         label   label_text  label_image label_text_image  \n",
       "0  informative  informative  informative         Positive  \n",
       "1  informative  informative  informative         Positive  "
      ]
     },
     "execution_count": 47,
     "metadata": {},
     "output_type": "execute_result"
    }
   ],
   "source": [
    "path = folder_from + \"CrisisMMD_v2.0/crisismmd_datasplit_agreed_label/\"\n",
    "allFiles = glob.glob(path + \"/*.tsv\")\n",
    "mmd = pd.DataFrame()\n",
    "list_ = []\n",
    "for file_ in allFiles:\n",
    "    df = pd.read_csv(file_, index_col=None, header=0, sep='\\t', encoding='utf_8', quotechar=' ')\n",
    "    list_.append(df)\n",
    "mmd = pd.concat(list_)\n",
    "mmd.head(2)"
   ]
  },
  {
   "cell_type": "code",
   "execution_count": 48,
   "metadata": {
    "ExecuteTime": {
     "end_time": "2021-01-14T22:35:53.448775Z",
     "start_time": "2021-01-14T22:35:53.381596Z"
    },
    "hidden": true
   },
   "outputs": [
    {
     "data": {
      "text/plain": [
       "(12708, 9)"
      ]
     },
     "execution_count": 48,
     "metadata": {},
     "output_type": "execute_result"
    }
   ],
   "source": [
    "#Counting duplicated by text and by image\n",
    "mmd.shape"
   ]
  },
  {
   "cell_type": "code",
   "execution_count": 49,
   "metadata": {
    "ExecuteTime": {
     "end_time": "2021-01-14T22:35:52.548816Z",
     "start_time": "2021-01-14T22:35:52.485649Z"
    },
    "hidden": true
   },
   "outputs": [
    {
     "data": {
      "text/plain": [
       "array(['informative', 'not_informative'], dtype=object)"
      ]
     },
     "execution_count": 49,
     "metadata": {},
     "output_type": "execute_result"
    }
   ],
   "source": [
    "mmd.label_image.unique()"
   ]
  },
  {
   "cell_type": "code",
   "execution_count": 50,
   "metadata": {
    "ExecuteTime": {
     "end_time": "2021-01-14T22:35:55.665908Z",
     "start_time": "2021-01-14T22:35:55.580612Z"
    },
    "hidden": true
   },
   "outputs": [
    {
     "data": {
      "text/plain": [
       "(11400, 4)"
      ]
     },
     "execution_count": 50,
     "metadata": {},
     "output_type": "execute_result"
    }
   ],
   "source": [
    "mmd = mmd[['tweet_id', 'tweet_text', 'label_text', 'event_name']]\n",
    "mmd = mmd.rename(columns={\"label_text\": \"original_label\", \n",
    "                          \"event_name\": \"crisis\"})\n",
    "mmd = mmd.drop_duplicates(subset=['tweet_id'], keep='first').reset_index(drop=True)\n",
    "mmd.shape"
   ]
  },
  {
   "cell_type": "code",
   "execution_count": 51,
   "metadata": {
    "ExecuteTime": {
     "end_time": "2021-01-14T22:35:56.305538Z",
     "start_time": "2021-01-14T22:35:56.225322Z"
    },
    "hidden": true
   },
   "outputs": [],
   "source": [
    "mmd['dataset'] = 'CrisisMMD'\n",
    "mmd['year'] = 2017\n",
    "mmd['created_at'] = mmd['year']\n",
    "mmd['mapped_label'] = mmd.original_label.replace(['informative', 'not_informative'], \n",
    "                                                 [positive_label, negative_label])"
   ]
  },
  {
   "cell_type": "code",
   "execution_count": 52,
   "metadata": {
    "ExecuteTime": {
     "end_time": "2021-01-14T22:35:57.180595Z",
     "start_time": "2021-01-14T22:35:57.100383Z"
    },
    "hidden": true
   },
   "outputs": [],
   "source": [
    "mmd['country'] = mmd.crisis.replace(['california_wildfires', 'hurricane_harvey', 'hurricane_irma',\n",
    "                                     'hurricane_maria', 'iraq_iran_earthquake', 'mexico_earthquake',\n",
    "                                     'srilanka_floods'],\n",
    "                                    ['EEUU', 'EEUU', 'several',\n",
    "                                     'several', 'several', 'Mexico',\n",
    "                                     'Sri Lanka'])\n",
    "\n",
    "mmd['crisis'] = mmd.crisis.replace(['california_wildfires', 'hurricane_harvey', 'hurricane_irma',\n",
    "                                     'hurricane_maria', 'iraq_iran_earthquake', 'mexico_earthquake',\n",
    "                                     'srilanka_floods'],\n",
    "                                    ['wildfires_California', 'hurricane_Harvey', 'hurricane_Irma',\n",
    "                                     'hurricane_Maria', 'earthquake_Iraq_Iran', 'earthquake_Mexico',\n",
    "                                     'flood_SriLanka'])"
   ]
  },
  {
   "cell_type": "code",
   "execution_count": 53,
   "metadata": {
    "ExecuteTime": {
     "end_time": "2021-01-14T22:35:58.054037Z",
     "start_time": "2021-01-14T22:35:57.972745Z"
    },
    "hidden": true
   },
   "outputs": [],
   "source": [
    "mmd['hazard_type'] = mmd.crisis.replace(['wildfires_California', 'hurricane_Harvey', 'hurricane_Irma',\n",
    "                                         'hurricane_Maria', 'earthquake_Iraq_Iran', 'earthquake_Mexico',\n",
    "                                         'flood_SriLanka'],\n",
    "                                        ['wildfires', 'hurricane', 'hurricane',\n",
    "                                         'hurricane', 'earthquake', 'earthquake',\n",
    "                                         'flood'])\n",
    "\n",
    "mmd = crisis_categories.assign_categ(mmd)\n",
    "mmd = mmd[columns_order]"
   ]
  },
  {
   "cell_type": "markdown",
   "metadata": {
    "heading_collapsed": true
   },
   "source": [
    "# Removing duplicates by ID"
   ]
  },
  {
   "cell_type": "code",
   "execution_count": 54,
   "metadata": {
    "hidden": true
   },
   "outputs": [
    {
     "data": {
      "text/plain": [
       "((165197, 13), 54)"
      ]
     },
     "execution_count": 54,
     "metadata": {},
     "output_type": "execute_result"
    }
   ],
   "source": [
    "data = pd.concat([italy_data, chile_data, t6_data, t26_data, ecuador_data, CrisisNlpR1_data, CrisisNlpR1_volunteer, mmd])\n",
    "data = data.reset_index(drop=True)\n",
    "data.shape, len(data.groupby(['crisis', 'country', 'year']).count())"
   ]
  },
  {
   "cell_type": "code",
   "execution_count": 55,
   "metadata": {
    "hidden": true
   },
   "outputs": [
    {
     "data": {
      "text/html": [
       "<div>\n",
       "<style scoped>\n",
       "    .dataframe tbody tr th:only-of-type {\n",
       "        vertical-align: middle;\n",
       "    }\n",
       "\n",
       "    .dataframe tbody tr th {\n",
       "        vertical-align: top;\n",
       "    }\n",
       "\n",
       "    .dataframe thead th {\n",
       "        text-align: right;\n",
       "    }\n",
       "</style>\n",
       "<table border=\"1\" class=\"dataframe\">\n",
       "  <thead>\n",
       "    <tr style=\"text-align: right;\">\n",
       "      <th>mapped_label</th>\n",
       "      <th>Not_Related</th>\n",
       "      <th>Related</th>\n",
       "    </tr>\n",
       "    <tr>\n",
       "      <th>dataset</th>\n",
       "      <th></th>\n",
       "      <th></th>\n",
       "    </tr>\n",
       "  </thead>\n",
       "  <tbody>\n",
       "    <tr>\n",
       "      <th>ChileEarthquakeT1</th>\n",
       "      <td>False</td>\n",
       "      <td>True</td>\n",
       "    </tr>\n",
       "    <tr>\n",
       "      <th>CrisisLexT26</th>\n",
       "      <td>Not applicable -- Not related</td>\n",
       "      <td>Related - but not informative -- Related and informative</td>\n",
       "    </tr>\n",
       "    <tr>\n",
       "      <th>CrisisLexT6</th>\n",
       "      <td>off-topic</td>\n",
       "      <td>on-topic</td>\n",
       "    </tr>\n",
       "    <tr>\n",
       "      <th>CrisisMMD</th>\n",
       "      <td>not_informative</td>\n",
       "      <td>informative</td>\n",
       "    </tr>\n",
       "    <tr>\n",
       "      <th>CrisisNlpR1_CF</th>\n",
       "      <td>not_related_or_irrelevant</td>\n",
       "      <td>affected_people -- caution_and_advice -- deaths_reports -- disease_signs_or_symptoms -- disease_transmission -- displaced_people_and_evacuations -- donation_needs_or_offers_or_volunteering_services -- infrastructure_and_utilities_damage -- injured_or_dead_people -- missing_trapped_or_found_people -- other_useful_information -- prevention -- sympathy_and_emotional_support -- treatment</td>\n",
       "    </tr>\n",
       "    <tr>\n",
       "      <th>CrisisNlpR1_Vol</th>\n",
       "      <td>No -- Not Informative -- Not Relevant -- Not informative -- Not physical landslide -- Not related or irrelevant -- Not related to crisis -- Not relevant</td>\n",
       "      <td>Caution and advice -- Displaced people -- Donations of money -- Donations of supplies and/or volunteer work -- Humanitarian Aid Provided -- Informative -- Infrastructure -- Infrastructure Damage -- Infrastructure and utilities -- Infrastructure damage -- Injured and dead -- Injured or dead people -- Missing, trapped, or found people -- Money -- Needs of those affected -- Non-government -- Other Relevant Information -- Other relevant -- Other relevant information -- Other useful information -- People missing or found -- Personal -- Personal only -- Personal updates -- Personal updates, sympathy, support -- Physical landslide -- Praying -- Requests for Help/Needs -- Response Efforts -- Response efforts -- Shelter and supplies -- Sympathy and emotional support -- Traditional media -- Urgent Needs -- Volunteer or professional services -- Yes</td>\n",
       "    </tr>\n",
       "    <tr>\n",
       "      <th>ESPOL_Ecuador_earthquake</th>\n",
       "      <td>no</td>\n",
       "      <td>yes</td>\n",
       "    </tr>\n",
       "    <tr>\n",
       "      <th>SoSItalyT4</th>\n",
       "      <td>not relevant</td>\n",
       "      <td>damage -- no damage</td>\n",
       "    </tr>\n",
       "  </tbody>\n",
       "</table>\n",
       "</div>"
      ],
      "text/plain": [
       "mapped_label                                                                                                                                                           Not_Related  \\\n",
       "dataset                                                                                                                                                                              \n",
       "ChileEarthquakeT1                                                                                                                                                            False   \n",
       "CrisisLexT26                                                                                                                                         Not applicable -- Not related   \n",
       "CrisisLexT6                                                                                                                                                              off-topic   \n",
       "CrisisMMD                                                                                                                                                          not_informative   \n",
       "CrisisNlpR1_CF                                                                                                                                           not_related_or_irrelevant   \n",
       "CrisisNlpR1_Vol           No -- Not Informative -- Not Relevant -- Not informative -- Not physical landslide -- Not related or irrelevant -- Not related to crisis -- Not relevant   \n",
       "ESPOL_Ecuador_earthquake                                                                                                                                                        no   \n",
       "SoSItalyT4                                                                                                                                                            not relevant   \n",
       "\n",
       "mapped_label                                                                                                                                                                                                                                                                                                                                                                                                                                                                                                                                                                                                                                                                                                                                                                                                                                                                                        Related  \n",
       "dataset                                                                                                                                                                                                                                                                                                                                                                                                                                                                                                                                                                                                                                                                                                                                                                                                                                                                                                      \n",
       "ChileEarthquakeT1                                                                                                                                                                                                                                                                                                                                                                                                                                                                                                                                                                                                                                                                                                                                                                                                                                                                                      True  \n",
       "CrisisLexT26                                                                                                                                                                                                                                                                                                                                                                                                                                                                                                                                                                                                                                                                                                                                                                                                                                       Related - but not informative -- Related and informative  \n",
       "CrisisLexT6                                                                                                                                                                                                                                                                                                                                                                                                                                                                                                                                                                                                                                                                                                                                                                                                                                                                                        on-topic  \n",
       "CrisisMMD                                                                                                                                                                                                                                                                                                                                                                                                                                                                                                                                                                                                                                                                                                                                                                                                                                                                                       informative  \n",
       "CrisisNlpR1_CF                                                                                                                                                                                                                                                                                                                                                                                                                                                                                           affected_people -- caution_and_advice -- deaths_reports -- disease_signs_or_symptoms -- disease_transmission -- displaced_people_and_evacuations -- donation_needs_or_offers_or_volunteering_services -- infrastructure_and_utilities_damage -- injured_or_dead_people -- missing_trapped_or_found_people -- other_useful_information -- prevention -- sympathy_and_emotional_support -- treatment  \n",
       "CrisisNlpR1_Vol           Caution and advice -- Displaced people -- Donations of money -- Donations of supplies and/or volunteer work -- Humanitarian Aid Provided -- Informative -- Infrastructure -- Infrastructure Damage -- Infrastructure and utilities -- Infrastructure damage -- Injured and dead -- Injured or dead people -- Missing, trapped, or found people -- Money -- Needs of those affected -- Non-government -- Other Relevant Information -- Other relevant -- Other relevant information -- Other useful information -- People missing or found -- Personal -- Personal only -- Personal updates -- Personal updates, sympathy, support -- Physical landslide -- Praying -- Requests for Help/Needs -- Response Efforts -- Response efforts -- Shelter and supplies -- Sympathy and emotional support -- Traditional media -- Urgent Needs -- Volunteer or professional services -- Yes  \n",
       "ESPOL_Ecuador_earthquake                                                                                                                                                                                                                                                                                                                                                                                                                                                                                                                                                                                                                                                                                                                                                                                                                                                                                yes  \n",
       "SoSItalyT4                                                                                                                                                                                                                                                                                                                                                                                                                                                                                                                                                                                                                                                                                                                                                                                                                                                                              damage -- no damage  "
      ]
     },
     "execution_count": 55,
     "metadata": {},
     "output_type": "execute_result"
    }
   ],
   "source": [
    "def join_l(l):\n",
    "    return \" -- \".join(str(v) for v in l)\n",
    "\n",
    "g = data.groupby(['dataset', 'mapped_label', 'original_label']).count()[[]].reset_index(\n",
    "    ['mapped_label', 'original_label'])\n",
    "\n",
    "g.pivot_table(values='original_label', index=g.index, \n",
    "              columns='mapped_label', aggfunc={'original_label':join_l})"
   ]
  },
  {
   "cell_type": "code",
   "execution_count": 56,
   "metadata": {
    "hidden": true
   },
   "outputs": [],
   "source": [
    "# Convert tweet_id into int \n",
    "def str_tweet(tweet): \n",
    "    tweet = str(tweet) \n",
    "    return re.sub(r\"\\D\", \"\", tweet)\n",
    "\n",
    "data['tweet_id'] = data['tweet_id'].apply(str_tweet)\n",
    "data['tweet_id'] = data['tweet_id'].astype(np.int64) "
   ]
  },
  {
   "cell_type": "code",
   "execution_count": 57,
   "metadata": {
    "hidden": true
   },
   "outputs": [
    {
     "data": {
      "text/plain": [
       "(164625, 13)"
      ]
     },
     "execution_count": 57,
     "metadata": {},
     "output_type": "execute_result"
    }
   ],
   "source": [
    "#removing duplicated tweet_id\n",
    "data = data.drop_duplicates(subset=['tweet_id'], keep='first')\n",
    "data.shape"
   ]
  },
  {
   "cell_type": "markdown",
   "metadata": {
    "heading_collapsed": true
   },
   "source": [
    "# Language detection"
   ]
  },
  {
   "cell_type": "code",
   "execution_count": null,
   "metadata": {
    "hidden": true
   },
   "outputs": [],
   "source": [
    "from sklearn.feature_extraction.text import CountVectorizer\n",
    "from tqdm import tqdm, tqdm_notebook\n",
    "\n",
    "import langid \n",
    "from langdetect import detect  \n",
    "\n",
    "import fasttext \n",
    "detector_fasttext = fasttext.load_model('../data/pretrained_models/lang_identification/fasttext lid.176.bin')\n",
    "\n",
    "from src import clean_tweet\n",
    "from ftfy import fix_text\n",
    "import pandas as pd\n",
    "tqdm.pandas()"
   ]
  },
  {
   "cell_type": "markdown",
   "metadata": {
    "heading_collapsed": true,
    "hidden": true
   },
   "source": [
    "## Cleaning the text"
   ]
  },
  {
   "cell_type": "code",
   "execution_count": 59,
   "metadata": {
    "hidden": true
   },
   "outputs": [
    {
     "name": "stderr",
     "output_type": "stream",
     "text": [
      "100%|███████████████████████████████████████████████████████████████████████| 164625/164625 [00:11<00:00, 14915.54it/s]\n"
     ]
    }
   ],
   "source": [
    "# Fix encoding text\n",
    "data['fixed_text'] = data.tweet_text.progress_apply(fix_text)"
   ]
  },
  {
   "cell_type": "code",
   "execution_count": 60,
   "metadata": {
    "hidden": true
   },
   "outputs": [
    {
     "data": {
      "application/vnd.jupyter.widget-view+json": {
       "model_id": "43e058d7b7e9481fabb54c3c627be739",
       "version_major": 2,
       "version_minor": 0
      },
      "text/plain": [
       "HBox(children=(FloatProgress(value=0.0, max=164625.0), HTML(value='')))"
      ]
     },
     "metadata": {},
     "output_type": "display_data"
    },
    {
     "name": "stdout",
     "output_type": "stream",
     "text": [
      "\n"
     ]
    },
    {
     "data": {
      "application/vnd.jupyter.widget-view+json": {
       "model_id": "8fbe4c8f6ba1480393bf99466711fff5",
       "version_major": 2,
       "version_minor": 0
      },
      "text/plain": [
       "HBox(children=(FloatProgress(value=0.0, max=164625.0), HTML(value='')))"
      ]
     },
     "metadata": {},
     "output_type": "display_data"
    },
    {
     "name": "stdout",
     "output_type": "stream",
     "text": [
      "\n"
     ]
    }
   ],
   "source": [
    "#For detecting language, mantain capital letters (except when all tweet in uppercase) numbers and some punctuations\n",
    "data['fixed_clean_lan'] = [clean_tweet.clean_tweet_lan(tweet, lower=False) for tweet in tqdm_notebook(data.fixed_text)]\n",
    "data['fixed_clean_lan'] = data['fixed_clean_lan'].astype(str)\n",
    "\n",
    "#Remove all retweet symbol, urls, users, emojis, hashtags, cashtag, numbers, symbols...\n",
    "data['fixed_clean_total'] = [clean_tweet.clean_tweet_totally(tweet, lower=True) for tweet in tqdm_notebook(data.fixed_text)]\n",
    "data['fixed_clean_total'] = data['fixed_clean_total'].astype(str)"
   ]
  },
  {
   "cell_type": "code",
   "execution_count": 61,
   "metadata": {
    "hidden": true
   },
   "outputs": [
    {
     "data": {
      "application/vnd.jupyter.widget-view+json": {
       "model_id": "20d4361d2f7c414c913b2edf1de491c4",
       "version_major": 2,
       "version_minor": 0
      },
      "text/plain": [
       "HBox(children=(FloatProgress(value=0.0, max=164625.0), HTML(value='')))"
      ]
     },
     "metadata": {},
     "output_type": "display_data"
    },
    {
     "name": "stdout",
     "output_type": "stream",
     "text": [
      "\n"
     ]
    },
    {
     "data": {
      "application/vnd.jupyter.widget-view+json": {
       "model_id": "b850bf122f98467d9f9ca571501f31e5",
       "version_major": 2,
       "version_minor": 0
      },
      "text/plain": [
       "HBox(children=(FloatProgress(value=0.0, max=164625.0), HTML(value='')))"
      ]
     },
     "metadata": {},
     "output_type": "display_data"
    },
    {
     "name": "stdout",
     "output_type": "stream",
     "text": [
      "\n"
     ]
    },
    {
     "data": {
      "application/vnd.jupyter.widget-view+json": {
       "model_id": "4ed46e8d071148538b37da9e285bc80a",
       "version_major": 2,
       "version_minor": 0
      },
      "text/plain": [
       "HBox(children=(FloatProgress(value=0.0, max=164625.0), HTML(value='')))"
      ]
     },
     "metadata": {},
     "output_type": "display_data"
    },
    {
     "name": "stdout",
     "output_type": "stream",
     "text": [
      "\n"
     ]
    },
    {
     "data": {
      "application/vnd.jupyter.widget-view+json": {
       "model_id": "19c525c34025455286d6942a9236a682",
       "version_major": 2,
       "version_minor": 0
      },
      "text/plain": [
       "HBox(children=(FloatProgress(value=0.0, max=164625.0), HTML(value='')))"
      ]
     },
     "metadata": {},
     "output_type": "display_data"
    },
    {
     "name": "stdout",
     "output_type": "stream",
     "text": [
      "\n"
     ]
    }
   ],
   "source": [
    "#Counting chars \n",
    "data['chars_fixed_clean_lan'] = [len(tweet) for tweet in tqdm_notebook(data.fixed_clean_lan)]\n",
    "data['chars_fixed_clean_total'] = [len(tweet) for tweet in tqdm_notebook(data.fixed_clean_total)]\n",
    "\n",
    "#Counting words\n",
    "data['words_fixed_clean_lan'] = [len(tweet.split()) for tweet in tqdm_notebook(data.fixed_clean_lan)]\n",
    "data['words_fixed_clean_total'] = [len(tweet.split()) for tweet in tqdm_notebook(data.fixed_clean_total)]"
   ]
  },
  {
   "cell_type": "code",
   "execution_count": 75,
   "metadata": {
    "hidden": true
   },
   "outputs": [
    {
     "data": {
      "text/html": [
       "<div>\n",
       "<style scoped>\n",
       "    .dataframe tbody tr th:only-of-type {\n",
       "        vertical-align: middle;\n",
       "    }\n",
       "\n",
       "    .dataframe tbody tr th {\n",
       "        vertical-align: top;\n",
       "    }\n",
       "\n",
       "    .dataframe thead th {\n",
       "        text-align: right;\n",
       "    }\n",
       "</style>\n",
       "<table border=\"1\" class=\"dataframe\">\n",
       "  <thead>\n",
       "    <tr style=\"text-align: right;\">\n",
       "      <th></th>\n",
       "      <th>tweet_text</th>\n",
       "      <th>fixed_text</th>\n",
       "      <th>fixed_clean_lan</th>\n",
       "      <th>fixed_clean_total</th>\n",
       "    </tr>\n",
       "  </thead>\n",
       "  <tbody>\n",
       "    <tr>\n",
       "      <th>39364</th>\n",
       "      <td>@cassafrass11 haha I just kept hitting refresh starting at 9:58</td>\n",
       "      <td>@cassafrass11 haha I just kept hitting refresh starting at 9:58</td>\n",
       "      <td>haha I just kept hitting refresh starting at 9 58</td>\n",
       "      <td>haha i just kept hitting refresh starting at</td>\n",
       "    </tr>\n",
       "    <tr>\n",
       "      <th>69631</th>\n",
       "      <td>Canal de Costa Rica transmite en directo primeras imágenes del terremoto. Mira aquí http://t.co/TyC2vbFC</td>\n",
       "      <td>Canal de Costa Rica transmite en directo primeras imágenes del terremoto. Mira aquí http://t.co/TyC2vbFC</td>\n",
       "      <td>Canal de Costa Rica transmite en directo primeras imágenes del terremoto. Mira aquí</td>\n",
       "      <td>canal de costa rica transmite en directo primeras imágenes del terremoto mira aquí</td>\n",
       "    </tr>\n",
       "    <tr>\n",
       "      <th>55100</th>\n",
       "      <td>Flood in Maryborough in Queensland Australia http://t.co/s5myMxp7</td>\n",
       "      <td>Flood in Maryborough in Queensland Australia http://t.co/s5myMxp7</td>\n",
       "      <td>Flood in Maryborough in Queensland Australia</td>\n",
       "      <td>flood in maryborough in queensland australia</td>\n",
       "    </tr>\n",
       "  </tbody>\n",
       "</table>\n",
       "</div>"
      ],
      "text/plain": [
       "                                                                                                     tweet_text  \\\n",
       "39364                                           @cassafrass11 haha I just kept hitting refresh starting at 9:58   \n",
       "69631  Canal de Costa Rica transmite en directo primeras imágenes del terremoto. Mira aquí http://t.co/TyC2vbFC   \n",
       "55100                                         Flood in Maryborough in Queensland Australia http://t.co/s5myMxp7   \n",
       "\n",
       "                                                                                                     fixed_text  \\\n",
       "39364                                           @cassafrass11 haha I just kept hitting refresh starting at 9:58   \n",
       "69631  Canal de Costa Rica transmite en directo primeras imágenes del terremoto. Mira aquí http://t.co/TyC2vbFC   \n",
       "55100                                         Flood in Maryborough in Queensland Australia http://t.co/s5myMxp7   \n",
       "\n",
       "                                                                           fixed_clean_lan  \\\n",
       "39364                                    haha I just kept hitting refresh starting at 9 58   \n",
       "69631  Canal de Costa Rica transmite en directo primeras imágenes del terremoto. Mira aquí   \n",
       "55100                                         Flood in Maryborough in Queensland Australia   \n",
       "\n",
       "                                                                        fixed_clean_total  \n",
       "39364                                        haha i just kept hitting refresh starting at  \n",
       "69631  canal de costa rica transmite en directo primeras imágenes del terremoto mira aquí  \n",
       "55100                                        flood in maryborough in queensland australia  "
      ]
     },
     "execution_count": 75,
     "metadata": {},
     "output_type": "execute_result"
    }
   ],
   "source": [
    "data[['tweet_text', 'fixed_text', 'fixed_clean_lan', 'fixed_clean_total']].sample(3)"
   ]
  },
  {
   "cell_type": "markdown",
   "metadata": {
    "heading_collapsed": true,
    "hidden": true
   },
   "source": [
    "## Detecting language"
   ]
  },
  {
   "cell_type": "code",
   "execution_count": 63,
   "metadata": {
    "hidden": true
   },
   "outputs": [],
   "source": [
    "def detect_fasttext(text):\n",
    "    return detector_fasttext.predict(text)[0][0].split('__label__')[-1]\n",
    "\n",
    "def detect_langid(text):\n",
    "    return langid.classify(text)[0]\n",
    "\n",
    "def detect_langdetect(text):\n",
    "    try:\n",
    "        return detect(text)\n",
    "    except Exception as e:\n",
    "        return 'error'    "
   ]
  },
  {
   "cell_type": "code",
   "execution_count": 64,
   "metadata": {
    "hidden": true,
    "scrolled": true
   },
   "outputs": [
    {
     "name": "stderr",
     "output_type": "stream",
     "text": [
      "100%|███████████████████████████████████████████████████████████████████████| 164625/164625 [00:02<00:00, 56672.61it/s]\n"
     ]
    }
   ],
   "source": [
    "data['lan_fasttext'] = data.fixed_clean_lan.progress_apply(detect_fasttext) "
   ]
  },
  {
   "cell_type": "code",
   "execution_count": 65,
   "metadata": {
    "hidden": true,
    "scrolled": true
   },
   "outputs": [
    {
     "name": "stderr",
     "output_type": "stream",
     "text": [
      "100%|█████████████████████████████████████████████████████████████████████████| 164625/164625 [04:56<00:00, 555.80it/s]\n"
     ]
    }
   ],
   "source": [
    "data['lan_langid'] = data.fixed_clean_lan.progress_apply(detect_langid) "
   ]
  },
  {
   "cell_type": "code",
   "execution_count": 66,
   "metadata": {
    "hidden": true,
    "scrolled": true
   },
   "outputs": [
    {
     "name": "stderr",
     "output_type": "stream",
     "text": [
      "100%|█████████████████████████████████████████████████████████████████████████| 164625/164625 [11:02<00:00, 248.41it/s]\n"
     ]
    }
   ],
   "source": [
    "data['lan_langdetect'] = data.fixed_clean_lan.progress_apply(detect_langdetect) "
   ]
  },
  {
   "cell_type": "markdown",
   "metadata": {
    "heading_collapsed": true,
    "hidden": true
   },
   "source": [
    "## Voting language"
   ]
  },
  {
   "cell_type": "code",
   "execution_count": 72,
   "metadata": {
    "hidden": true
   },
   "outputs": [],
   "source": [
    "def top_langs(corpus, n=None):\n",
    "    vec = CountVectorizer().fit(corpus)\n",
    "    bag_of_words = vec.transform(corpus)\n",
    "    sum_words = bag_of_words.sum(axis=0) \n",
    "    words_freq = [(word, sum_words[0, idx]) for word, idx in vec.vocabulary_.items()]\n",
    "    words_freq =sorted(words_freq, key = lambda x: x[1], reverse=True)\n",
    "    return words_freq[:n]"
   ]
  },
  {
   "cell_type": "code",
   "execution_count": 76,
   "metadata": {
    "hidden": true,
    "scrolled": true
   },
   "outputs": [],
   "source": [
    "lang_cols = ['lan_fasttext', 'lan_langid', 'lan_langdetect']\n",
    "\n",
    "data['vote_lan'] = [top_langs(tweet) for tweet in data[lang_cols].values]\n",
    "\n",
    "data['lan_final'] = [vote[0][0] if vote[0][1] > sum([lan[1] for lan in vote]) / 2 \n",
    "                     else 'no_agree' for vote in data.vote_lan.values]"
   ]
  },
  {
   "cell_type": "code",
   "execution_count": 77,
   "metadata": {
    "hidden": true
   },
   "outputs": [],
   "source": [
    "data.loc[((data.chars_fixed_clean_total==0) | # tweets with no text (only numbers, hashtags, users)\n",
    "          ((data.words_fixed_clean_total==1) & # tweets with one word of less than four chars\n",
    "           (data.chars_fixed_clean_total.isin([1, 2, 3])))) , 'lan_final'] = 'no_text'"
   ]
  },
  {
   "cell_type": "code",
   "execution_count": 3,
   "metadata": {
    "hidden": true
   },
   "outputs": [
    {
     "data": {
      "text/plain": [
       "(164625, 16)"
      ]
     },
     "execution_count": 3,
     "metadata": {},
     "output_type": "execute_result"
    }
   ],
   "source": [
    "cols = ['tweet_id', 'tweet_text', 'fixed_text', 'dataset', \n",
    "        'crisis', 'country', 'year', 'original_label', 'mapped_label', \n",
    "        'hazard_type', 'hazard_cat', 'hazard_subcat', 'development', \n",
    "        'spread', 'vote_lan', 'lan_final']\n",
    "\n",
    "\n",
    "data[cols].to_csv('../data/unified/Unified_MultiCrisis_Dataset.csv', index=False)\n",
    "data[cols].shape"
   ]
  },
  {
   "cell_type": "code",
   "execution_count": 15,
   "metadata": {
    "hidden": true
   },
   "outputs": [
    {
     "data": {
      "text/plain": [
       "53"
      ]
     },
     "execution_count": 15,
     "metadata": {},
     "output_type": "execute_result"
    }
   ],
   "source": [
    "len(data.groupby(['crisis', 'country', 'year']).count())"
   ]
  }
 ],
 "metadata": {
  "hide_input": false,
  "kernelspec": {
   "display_name": "Python 3",
   "language": "python",
   "name": "python3"
  },
  "language_info": {
   "codemirror_mode": {
    "name": "ipython",
    "version": 3
   },
   "file_extension": ".py",
   "mimetype": "text/x-python",
   "name": "python",
   "nbconvert_exporter": "python",
   "pygments_lexer": "ipython3",
   "version": "3.7.9"
  },
  "toc": {
   "base_numbering": 1,
   "nav_menu": {},
   "number_sections": true,
   "sideBar": true,
   "skip_h1_title": false,
   "title_cell": "Table of Contents",
   "title_sidebar": "Contents",
   "toc_cell": false,
   "toc_position": {},
   "toc_section_display": true,
   "toc_window_display": false
  },
  "varInspector": {
   "cols": {
    "lenName": 16,
    "lenType": 16,
    "lenVar": 40
   },
   "kernels_config": {
    "python": {
     "delete_cmd_postfix": "",
     "delete_cmd_prefix": "del ",
     "library": "var_list.py",
     "varRefreshCmd": "print(var_dic_list())"
    },
    "r": {
     "delete_cmd_postfix": ") ",
     "delete_cmd_prefix": "rm(",
     "library": "var_list.r",
     "varRefreshCmd": "cat(var_dic_list()) "
    }
   },
   "types_to_exclude": [
    "module",
    "function",
    "builtin_function_or_method",
    "instance",
    "_Feature"
   ],
   "window_display": false
  }
 },
 "nbformat": 4,
 "nbformat_minor": 2
}
